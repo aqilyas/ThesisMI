{
  "nbformat": 4,
  "nbformat_minor": 0,
  "metadata": {
    "colab": {
      "name": "NN RS & IG.ipynb",
      "provenance": [],
      "collapsed_sections": [],
      "toc_visible": true,
      "machine_shape": "hm",
      "include_colab_link": true
    },
    "kernelspec": {
      "name": "python3",
      "display_name": "Python 3"
    }
  },
  "cells": [
    {
      "cell_type": "markdown",
      "metadata": {
        "id": "view-in-github",
        "colab_type": "text"
      },
      "source": [
        "<a href=\"https://colab.research.google.com/github/aqilyas/ThesisMI/blob/master/NN_RS_%26_IG.ipynb\" target=\"_parent\"><img src=\"https://colab.research.google.com/assets/colab-badge.svg\" alt=\"Open In Colab\"/></a>"
      ]
    },
    {
      "cell_type": "markdown",
      "metadata": {
        "id": "5fkyDvh0PxZQ",
        "colab_type": "text"
      },
      "source": [
        "This notebook contains the process of model building after all processing is done. \n",
        "The first Part uses variables with embeddings, and Part 2 uses a dataset with numerical variables (as described in the results chapter)"
      ]
    },
    {
      "cell_type": "markdown",
      "metadata": {
        "id": "I9eAKIxmr0Gc",
        "colab_type": "text"
      },
      "source": [
        "##Packages"
      ]
    },
    {
      "cell_type": "code",
      "metadata": {
        "id": "E-UowIKVxm8W",
        "colab_type": "code",
        "colab": {}
      },
      "source": [
        "%tensorflow_version 1.x\n",
        "import pandas as pd\n",
        "import keras\n",
        "import keras.backend as K\n",
        "from keras.models import Model, Sequential\n",
        "from keras.layers import Dense, Input\n",
        "from keras import layers\n",
        "import tensorflow as tf\n",
        "from tensorflow import feature_column\n",
        "from tensorflow.keras import layers\n",
        "import tensorflow_hub as hub\n",
        "import shutil"
      ],
      "execution_count": 0,
      "outputs": []
    },
    {
      "cell_type": "code",
      "metadata": {
        "id": "GS27l9R3xut7",
        "colab_type": "code",
        "colab": {}
      },
      "source": [
        "#from google.colab import files\n",
        "#uploaded = files.upload()"
      ],
      "execution_count": 0,
      "outputs": []
    },
    {
      "cell_type": "markdown",
      "metadata": {
        "id": "q7cmxebvr5z4",
        "colab_type": "text"
      },
      "source": [
        "## Loading data"
      ]
    },
    {
      "cell_type": "code",
      "metadata": {
        "id": "rxLPdfFTcVRW",
        "colab_type": "code",
        "colab": {}
      },
      "source": [
        "!wget https://www.dropbox.com/s/1tz9p2tuiloni7k/data.csv?dl=1 -O data.csv"
      ],
      "execution_count": 0,
      "outputs": []
    },
    {
      "cell_type": "markdown",
      "metadata": {
        "id": "xYR5WamIQOrh",
        "colab_type": "text"
      },
      "source": [
        "#**Part I**"
      ]
    },
    {
      "cell_type": "code",
      "metadata": {
        "id": "5UquVWVlxzCi",
        "colab_type": "code",
        "outputId": "ec8c5830-dab7-4667-bfd1-8eacd575d757",
        "colab": {
          "base_uri": "https://localhost:8080/",
          "height": 204
        }
      },
      "source": [
        "df_1 = pd.read_csv('data.csv', index_col= 0)\n",
        "#df_1.next_id = df_1.next_id.astype('category').cat.codes.values\n",
        "df_1.head(3)"
      ],
      "execution_count": 0,
      "outputs": [
        {
          "output_type": "execute_result",
          "data": {
            "text/html": [
              "<div>\n",
              "<style scoped>\n",
              "    .dataframe tbody tr th:only-of-type {\n",
              "        vertical-align: middle;\n",
              "    }\n",
              "\n",
              "    .dataframe tbody tr th {\n",
              "        vertical-align: top;\n",
              "    }\n",
              "\n",
              "    .dataframe thead th {\n",
              "        text-align: right;\n",
              "    }\n",
              "</style>\n",
              "<table border=\"1\" class=\"dataframe\">\n",
              "  <thead>\n",
              "    <tr style=\"text-align: right;\">\n",
              "      <th></th>\n",
              "      <th>userId</th>\n",
              "      <th>movieId</th>\n",
              "      <th>genres</th>\n",
              "      <th>original_title</th>\n",
              "      <th>duration</th>\n",
              "      <th>vote_average</th>\n",
              "      <th>title_year</th>\n",
              "      <th>director_name</th>\n",
              "      <th>actor_1_name</th>\n",
              "      <th>actor_2_name</th>\n",
              "      <th>next_id</th>\n",
              "    </tr>\n",
              "  </thead>\n",
              "  <tbody>\n",
              "    <tr>\n",
              "      <th>1</th>\n",
              "      <td>1</td>\n",
              "      <td>1061</td>\n",
              "      <td>Crime Drama Thriller</td>\n",
              "      <td>Sleepers</td>\n",
              "      <td>147</td>\n",
              "      <td>73</td>\n",
              "      <td>23</td>\n",
              "      <td>Barry Levinson</td>\n",
              "      <td>Brad Pitt</td>\n",
              "      <td>Kevin Bacon</td>\n",
              "      <td>1129</td>\n",
              "    </tr>\n",
              "    <tr>\n",
              "      <th>2</th>\n",
              "      <td>1</td>\n",
              "      <td>1129</td>\n",
              "      <td>Science Fiction Action</td>\n",
              "      <td>Escape from New York</td>\n",
              "      <td>99</td>\n",
              "      <td>69</td>\n",
              "      <td>38</td>\n",
              "      <td>John Carpenter</td>\n",
              "      <td>Lee Van Cleef</td>\n",
              "      <td>Ernest Borgnine</td>\n",
              "      <td>1263</td>\n",
              "    </tr>\n",
              "    <tr>\n",
              "      <th>3</th>\n",
              "      <td>1</td>\n",
              "      <td>1263</td>\n",
              "      <td>Drama War</td>\n",
              "      <td>The Deer Hunter</td>\n",
              "      <td>183</td>\n",
              "      <td>78</td>\n",
              "      <td>41</td>\n",
              "      <td>Michael Cimino</td>\n",
              "      <td>John Cazale</td>\n",
              "      <td>John Savage</td>\n",
              "      <td>1293</td>\n",
              "    </tr>\n",
              "  </tbody>\n",
              "</table>\n",
              "</div>"
            ],
            "text/plain": [
              "   userId  movieId  ...     actor_2_name next_id\n",
              "1       1     1061  ...      Kevin Bacon    1129\n",
              "2       1     1129  ...  Ernest Borgnine    1263\n",
              "3       1     1263  ...      John Savage    1293\n",
              "\n",
              "[3 rows x 11 columns]"
            ]
          },
          "metadata": {
            "tags": []
          },
          "execution_count": 4
        }
      ]
    },
    {
      "cell_type": "code",
      "metadata": {
        "id": "mNGCwUO9SXVF",
        "colab_type": "code",
        "outputId": "94ebf0c2-d4f7-4e51-cc74-ab01ab65bd17",
        "colab": {
          "base_uri": "https://localhost:8080/",
          "height": 34
        }
      },
      "source": [
        "len(df_1.next_id.unique())\n",
        "len(df_1.movieId.unique())"
      ],
      "execution_count": 0,
      "outputs": [
        {
          "output_type": "execute_result",
          "data": {
            "text/plain": [
              "3374"
            ]
          },
          "metadata": {
            "tags": []
          },
          "execution_count": 4
        }
      ]
    },
    {
      "cell_type": "code",
      "metadata": {
        "id": "3hF7LyaBtWW4",
        "colab_type": "code",
        "colab": {}
      },
      "source": [
        "for column in df_1.columns:\n",
        "  if df_1[column].dtype == object:\n",
        "    df_1[column] = df_1[column].fillna('')\n",
        "    \n",
        "#df_1 = df_1.to_string()\n"
      ],
      "execution_count": 0,
      "outputs": []
    },
    {
      "cell_type": "markdown",
      "metadata": {
        "id": "NlE41DCWc6IH",
        "colab_type": "text"
      },
      "source": [
        "##**Descriptives**"
      ]
    },
    {
      "cell_type": "markdown",
      "metadata": {
        "id": "mhqDBHvbcZeX",
        "colab_type": "text"
      },
      "source": [
        "###Numeric Variables"
      ]
    },
    {
      "cell_type": "code",
      "metadata": {
        "id": "nApJSpyKdB5W",
        "colab_type": "code",
        "outputId": "80f9e40f-6584-41f1-bb86-81b937e0c4b3",
        "colab": {
          "base_uri": "https://localhost:8080/",
          "height": 287
        }
      },
      "source": [
        "df_1.describe()"
      ],
      "execution_count": 0,
      "outputs": [
        {
          "output_type": "execute_result",
          "data": {
            "text/html": [
              "<div>\n",
              "<style scoped>\n",
              "    .dataframe tbody tr th:only-of-type {\n",
              "        vertical-align: middle;\n",
              "    }\n",
              "\n",
              "    .dataframe tbody tr th {\n",
              "        vertical-align: top;\n",
              "    }\n",
              "\n",
              "    .dataframe thead th {\n",
              "        text-align: right;\n",
              "    }\n",
              "</style>\n",
              "<table border=\"1\" class=\"dataframe\">\n",
              "  <thead>\n",
              "    <tr style=\"text-align: right;\">\n",
              "      <th></th>\n",
              "      <th>userId</th>\n",
              "      <th>movieId</th>\n",
              "      <th>duration</th>\n",
              "      <th>vote_average</th>\n",
              "      <th>title_year</th>\n",
              "      <th>next_id</th>\n",
              "    </tr>\n",
              "  </thead>\n",
              "  <tbody>\n",
              "    <tr>\n",
              "      <th>count</th>\n",
              "      <td>66015.000000</td>\n",
              "      <td>66015.000000</td>\n",
              "      <td>66015.000000</td>\n",
              "      <td>66015.000000</td>\n",
              "      <td>66015.000000</td>\n",
              "      <td>66015.000000</td>\n",
              "    </tr>\n",
              "    <tr>\n",
              "      <th>mean</th>\n",
              "      <td>341.835977</td>\n",
              "      <td>13792.853261</td>\n",
              "      <td>119.153208</td>\n",
              "      <td>69.435128</td>\n",
              "      <td>23.848580</td>\n",
              "      <td>14192.434432</td>\n",
              "    </tr>\n",
              "    <tr>\n",
              "      <th>std</th>\n",
              "      <td>195.089253</td>\n",
              "      <td>27178.789566</td>\n",
              "      <td>24.247934</td>\n",
              "      <td>7.971788</td>\n",
              "      <td>12.252165</td>\n",
              "      <td>27687.326522</td>\n",
              "    </tr>\n",
              "    <tr>\n",
              "      <th>min</th>\n",
              "      <td>1.000000</td>\n",
              "      <td>10.000000</td>\n",
              "      <td>25.000000</td>\n",
              "      <td>0.000000</td>\n",
              "      <td>3.000000</td>\n",
              "      <td>11.000000</td>\n",
              "    </tr>\n",
              "    <tr>\n",
              "      <th>25%</th>\n",
              "      <td>174.000000</td>\n",
              "      <td>1095.000000</td>\n",
              "      <td>101.000000</td>\n",
              "      <td>64.000000</td>\n",
              "      <td>17.000000</td>\n",
              "      <td>1136.000000</td>\n",
              "    </tr>\n",
              "    <tr>\n",
              "      <th>50%</th>\n",
              "      <td>355.000000</td>\n",
              "      <td>2571.000000</td>\n",
              "      <td>116.000000</td>\n",
              "      <td>70.000000</td>\n",
              "      <td>22.000000</td>\n",
              "      <td>2628.000000</td>\n",
              "    </tr>\n",
              "    <tr>\n",
              "      <th>75%</th>\n",
              "      <td>514.000000</td>\n",
              "      <td>5956.000000</td>\n",
              "      <td>131.000000</td>\n",
              "      <td>75.000000</td>\n",
              "      <td>27.000000</td>\n",
              "      <td>6016.000000</td>\n",
              "    </tr>\n",
              "    <tr>\n",
              "      <th>max</th>\n",
              "      <td>671.000000</td>\n",
              "      <td>160438.000000</td>\n",
              "      <td>254.000000</td>\n",
              "      <td>100.000000</td>\n",
              "      <td>92.000000</td>\n",
              "      <td>160563.000000</td>\n",
              "    </tr>\n",
              "  </tbody>\n",
              "</table>\n",
              "</div>"
            ],
            "text/plain": [
              "             userId        movieId  ...    title_year        next_id\n",
              "count  66015.000000   66015.000000  ...  66015.000000   66015.000000\n",
              "mean     341.835977   13792.853261  ...     23.848580   14192.434432\n",
              "std      195.089253   27178.789566  ...     12.252165   27687.326522\n",
              "min        1.000000      10.000000  ...      3.000000      11.000000\n",
              "25%      174.000000    1095.000000  ...     17.000000    1136.000000\n",
              "50%      355.000000    2571.000000  ...     22.000000    2628.000000\n",
              "75%      514.000000    5956.000000  ...     27.000000    6016.000000\n",
              "max      671.000000  160438.000000  ...     92.000000  160563.000000\n",
              "\n",
              "[8 rows x 6 columns]"
            ]
          },
          "metadata": {
            "tags": []
          },
          "execution_count": 5
        }
      ]
    },
    {
      "cell_type": "markdown",
      "metadata": {
        "id": "zTkySLrbcdy7",
        "colab_type": "text"
      },
      "source": [
        "###*Duration*"
      ]
    },
    {
      "cell_type": "code",
      "metadata": {
        "id": "bG2tAtk517IY",
        "colab_type": "code",
        "outputId": "9e00f984-f4bd-4058-cae5-617c7b7a2f45",
        "colab": {
          "base_uri": "https://localhost:8080/",
          "height": 484
        }
      },
      "source": [
        "import matplotlib.pyplot as plt\n",
        "import seaborn as sns\n",
        "\n",
        "#%matplotlib inline\n",
        "\n",
        "#sns.set() #(style=\"whitegrid\")\n",
        "#plt.figure(figsize=(10,8))\n",
        "#ax = sns.boxplot(x='duration', data=df_1, orient=\"v\")\n",
        "###########\n",
        "\n",
        "sns.set()\n",
        "plt.figure(figsize=(10,8))\n",
        "sns.kdeplot(df_1['duration'], shade=True)\n",
        "#sns.plt.show()\n",
        "plt.savefig(\"density_2.png\", bbox_inches = \"tight\")\n",
        "files.download(\"density_2.png\")"
      ],
      "execution_count": 0,
      "outputs": [
        {
          "output_type": "display_data",
          "data": {
            "image/png": "[encoded data removed]",
            "text/plain": [
              "<Figure size 720x576 with 1 Axes>"
            ]
          },
          "metadata": {
            "tags": []
          }
        }
      ]
    },
    {
      "cell_type": "markdown",
      "metadata": {
        "id": "wmR-wMqiclC3",
        "colab_type": "text"
      },
      "source": [
        "###*Vote Average*"
      ]
    },
    {
      "cell_type": "code",
      "metadata": {
        "id": "flK1xIAC2Wos",
        "colab_type": "code",
        "outputId": "331b1feb-f49d-47b4-d34b-9916cdd72f41",
        "colab": {
          "base_uri": "https://localhost:8080/",
          "height": 465
        }
      },
      "source": [
        "sns.set() #(style=\"whitegrid\")\n",
        "plt.figure(figsize=(10,8))\n",
        "ax = sns.boxplot(x='vote_average', data=df_1, orient=\"v\")\n",
        "\n"
      ],
      "execution_count": 0,
      "outputs": [
        {
          "output_type": "display_data",
          "data": {
            "image/png": "[encoded data removed]",
            "text/plain": [
              "<Figure size 720x576 with 1 Axes>"
            ]
          },
          "metadata": {
            "tags": []
          }
        }
      ]
    },
    {
      "cell_type": "code",
      "metadata": {
        "id": "QNqfNy7X3IGd",
        "colab_type": "code",
        "outputId": "d4c721f4-3dcf-41ae-9a73-1d2b6e9968f1",
        "colab": {
          "base_uri": "https://localhost:8080/",
          "height": 484
        }
      },
      "source": [
        "from google.colab import files\n",
        "# density plot with shade\n",
        "sns.set()\n",
        "plt.figure(figsize=(10,8))\n",
        "sns.kdeplot(df_1['vote_average'], shade=True)\n",
        "#sns.plt.show()\n",
        "plt.savefig(\"density_1.png\", bbox_inches = \"tight\")\n",
        "files.download(\"density_1.png\")"
      ],
      "execution_count": 0,
      "outputs": [
        {
          "output_type": "display_data",
          "data": {
            "image/png": "[encoded data removed]",
            "text/plain": [
              "<Figure size 720x576 with 1 Axes>"
            ]
          },
          "metadata": {
            "tags": []
          }
        }
      ]
    },
    {
      "cell_type": "markdown",
      "metadata": {
        "id": "sptw3QUYn2Ft",
        "colab_type": "text"
      },
      "source": [
        "###*Newness*"
      ]
    },
    {
      "cell_type": "code",
      "metadata": {
        "id": "VZQoOjUjn59-",
        "colab_type": "code",
        "outputId": "75bd3ffa-6af1-4d7a-9212-585774b9ccf8",
        "colab": {
          "base_uri": "https://localhost:8080/",
          "height": 484
        }
      },
      "source": [
        "sns.set()\n",
        "plt.figure(figsize=(10,8))\n",
        "sns.kdeplot(df_1['title_year'], shade=True)\n",
        "#sns.plt.show()\n",
        "plt.savefig(\"density_new.png\", bbox_inches = \"tight\")\n",
        "files.download(\"density_new.png\")"
      ],
      "execution_count": 0,
      "outputs": [
        {
          "output_type": "display_data",
          "data": {
            "image/png": "[encoded data removed]",
            "text/plain": [
              "<Figure size 720x576 with 1 Axes>"
            ]
          },
          "metadata": {
            "tags": []
          }
        }
      ]
    },
    {
      "cell_type": "code",
      "metadata": {
        "id": "SEzk-KQaoPpp",
        "colab_type": "code",
        "outputId": "f8dfcb63-d12c-4ea0-a51f-b514d6db153f",
        "colab": {
          "base_uri": "https://localhost:8080/",
          "height": 465
        }
      },
      "source": [
        "sns.set() #(style=\"whitegrid\")\n",
        "plt.figure(figsize=(10,8))\n",
        "ax = sns.boxplot(x='title_year', data=df_1, orient=\"v\")"
      ],
      "execution_count": 0,
      "outputs": [
        {
          "output_type": "display_data",
          "data": {
            "image/png": "[encoded data removed]",
            "text/plain": [
              "<Figure size 720x576 with 1 Axes>"
            ]
          },
          "metadata": {
            "tags": []
          }
        }
      ]
    },
    {
      "cell_type": "markdown",
      "metadata": {
        "id": "GZ0A7MG68aEK",
        "colab_type": "text"
      },
      "source": [
        "###*Director*"
      ]
    },
    {
      "cell_type": "code",
      "metadata": {
        "id": "b7wgErCW8dtM",
        "colab_type": "code",
        "outputId": "16eea90a-041f-4bb8-c867-32d081e7a588",
        "colab": {
          "base_uri": "https://localhost:8080/",
          "height": 34
        }
      },
      "source": [
        "directors_list = df_1.director_name.unique().tolist()\n",
        "len(directors_list)"
      ],
      "execution_count": 0,
      "outputs": [
        {
          "output_type": "execute_result",
          "data": {
            "text/plain": [
              "1481"
            ]
          },
          "metadata": {
            "tags": []
          },
          "execution_count": 5
        }
      ]
    },
    {
      "cell_type": "markdown",
      "metadata": {
        "id": "8M7mOK2s9TT4",
        "colab_type": "text"
      },
      "source": [
        "###*First and second actor*"
      ]
    },
    {
      "cell_type": "code",
      "metadata": {
        "id": "Qu6Uiu8r9Wk9",
        "colab_type": "code",
        "outputId": "940cd085-db0f-4121-8148-ecd1e12587e7",
        "colab": {
          "base_uri": "https://localhost:8080/",
          "height": 52
        }
      },
      "source": [
        "#Creating 1st actors list\n",
        "actor_1_list = df_1.actor_1_name.unique().tolist()\n",
        "print(len(actor_1_list))\n",
        "\n",
        "#Creating 2nd actors list\n",
        "actor_2_list = df_1.actor_2_name.unique().tolist()\n",
        "print(len(actor_2_list))"
      ],
      "execution_count": 0,
      "outputs": [
        {
          "output_type": "stream",
          "text": [
            "1861\n",
            "2181\n"
          ],
          "name": "stdout"
        }
      ]
    },
    {
      "cell_type": "markdown",
      "metadata": {
        "id": "YN6a_SAndKJm",
        "colab_type": "text"
      },
      "source": [
        "##Creating lists to use later in feature_columns embeddings"
      ]
    },
    {
      "cell_type": "code",
      "metadata": {
        "id": "1ujUhuVPsQsG",
        "colab_type": "code",
        "outputId": "f35d3e4a-0bb2-45ba-8ece-516ad59fabf5",
        "colab": {
          "base_uri": "https://localhost:8080/",
          "height": 230
        }
      },
      "source": [
        "#I get an error when I keep them as int\n",
        "df_1['movieId'] = df_1['movieId'].astype(str)\n",
        "df_1['userId'] = df_1['userId'].astype(str)\n",
        "#type(df_1['movieId'])\n",
        "df_1.dtypes"
      ],
      "execution_count": 0,
      "outputs": [
        {
          "output_type": "execute_result",
          "data": {
            "text/plain": [
              "userId            object\n",
              "movieId           object\n",
              "genres            object\n",
              "original_title    object\n",
              "duration           int64\n",
              "vote_average       int64\n",
              "title_year         int64\n",
              "director_name     object\n",
              "actor_1_name      object\n",
              "actor_2_name      object\n",
              "next_id            int64\n",
              "dtype: object"
            ]
          },
          "metadata": {
            "tags": []
          },
          "execution_count": 6
        }
      ]
    },
    {
      "cell_type": "code",
      "metadata": {
        "id": "odGg3zm5yCuG",
        "colab_type": "code",
        "colab": {}
      },
      "source": [
        "\n",
        "#list of 'next_id' movies Ids\n",
        "nmovie_ids_list= df_1.next_id.unique().tolist()\n",
        "len(nmovie_ids_list)\n",
        "\n",
        "#list of movieIds\n",
        "movieslist = df_1.movieId.unique().tolist()\n",
        "#write_list_to_disk(movie_ids_list, \"movieIdslist.txt\")\n",
        "userslist = df_1.userId.unique().tolist()\n"
      ],
      "execution_count": 0,
      "outputs": []
    },
    {
      "cell_type": "code",
      "metadata": {
        "id": "aC--a-t4W4zT",
        "colab_type": "code",
        "colab": {}
      },
      "source": [
        "df_1.next_id = df_1.next_id.astype('category').cat.codes.values"
      ],
      "execution_count": 0,
      "outputs": []
    },
    {
      "cell_type": "code",
      "metadata": {
        "id": "gPTny3vyyHh-",
        "colab_type": "code",
        "outputId": "6d378ecb-fff6-416f-e508-39e7936b113b",
        "colab": {
          "base_uri": "https://localhost:8080/",
          "height": 125
        }
      },
      "source": [
        "#Creating directors list\n",
        "directors_list = df_1.director_name.unique().tolist()\n",
        "print(directors_list[:10])\n",
        "len(directors_list)\n",
        "\n",
        "#Creating 1st actors list\n",
        "actor_1_list = df_1.actor_1_name.unique().tolist()\n",
        "print(actor_1_list[:5])\n",
        "len(actor_1_list)\n",
        "\n",
        "#Creating 2nd actors list\n",
        "actor_2_list = df_1.actor_2_name.unique().tolist()\n",
        "print(actor_2_list[:5])\n",
        "len(actor_2_list)\n",
        "\n",
        "#Doing the same for Genres\n",
        "\n",
        "genre_combi_list = df_1.genres.unique().tolist()\n",
        "print(genre_combi_list[:6])\n",
        "len(genre_combi_list)\n"
      ],
      "execution_count": 0,
      "outputs": [
        {
          "output_type": "stream",
          "text": [
            "['Barry Levinson', 'John Carpenter', 'Michael Cimino', 'Richard Attenborough', 'Francis Ford Coppola', 'Martin Scorsese', 'Robert Wise', 'Mike Judge', 'William Friedkin', 'Eric Darnell']\n",
            "['Brad Pitt', 'Lee Van Cleef', 'John Cazale', 'Candice Bergen', 'Winona Ryder']\n",
            "['Kevin Bacon', 'Ernest Borgnine', 'John Savage', 'Edward Fox', 'Anthony Hopkins']\n",
            "['Crime Drama Thriller', 'Science Fiction Action', 'Drama War', 'Drama History', 'Romance Horror', 'Crime Thriller']\n"
          ],
          "name": "stdout"
        },
        {
          "output_type": "execute_result",
          "data": {
            "text/plain": [
              "969"
            ]
          },
          "metadata": {
            "tags": []
          },
          "execution_count": 9
        }
      ]
    },
    {
      "cell_type": "markdown",
      "metadata": {
        "id": "H6i7kIAkc8VJ",
        "colab_type": "text"
      },
      "source": [
        "## Input Pipeline, from dataframe to tf dataset\n",
        "\n",
        "We will change the pandas dataframe fromat to tf.data to suit the input features of the model by using embeddings"
      ]
    },
    {
      "cell_type": "code",
      "metadata": {
        "id": "nMmjKtan4nYl",
        "colab_type": "code",
        "colab": {}
      },
      "source": [
        "def df_to_dataset(dataframe, shuffle=True, batch_size=128):\n",
        "  dataframe = dataframe.copy()\n",
        "  labels = dataframe.pop('next_id')\n",
        "  ds = tf.data.Dataset.from_tensor_slices((dict(dataframe), labels))\n",
        "  if shuffle:\n",
        "    ds = ds.shuffle(buffer_size=len(dataframe))\n",
        "  ds = ds.batch(batch_size)\n",
        "  return ds"
      ],
      "execution_count": 0,
      "outputs": []
    },
    {
      "cell_type": "markdown",
      "metadata": {
        "id": "phgr-zgMdBge",
        "colab_type": "text"
      },
      "source": [
        "###Train Test sets"
      ]
    },
    {
      "cell_type": "code",
      "metadata": {
        "id": "IE-zzmpyqrX8",
        "colab_type": "code",
        "colab": {}
      },
      "source": [
        "from sklearn.model_selection import train_test_split\n",
        "\n",
        "train, test = train_test_split(df_1, test_size=0.2)"
      ],
      "execution_count": 0,
      "outputs": []
    },
    {
      "cell_type": "code",
      "metadata": {
        "id": "ZcdlggfGrfPB",
        "colab_type": "code",
        "colab": {}
      },
      "source": [
        "batch_size = 128\n",
        "train_ds = df_to_dataset(train, shuffle=False)\n",
        "#val_ds = df_to_dataset(val, shuffle=False, batch_size=batch_size)\n",
        "test_ds = df_to_dataset(test, shuffle=False, batch_size=batch_size)"
      ],
      "execution_count": 0,
      "outputs": []
    },
    {
      "cell_type": "code",
      "metadata": {
        "id": "zi77iI9UrbdQ",
        "colab_type": "code",
        "outputId": "0c22d497-5f93-43b2-e3ea-93e78b3cb771",
        "colab": {
          "base_uri": "https://localhost:8080/",
          "height": 123
        }
      },
      "source": [
        "print(len(directors_list))\n",
        "print(len(actor_1_list))\n",
        "print(len(actor_2_list))\n",
        "print(len(genre_combi_list))\n",
        "print(len(nmovie_ids_list))\n",
        "print(len(movieslist))"
      ],
      "execution_count": 0,
      "outputs": [
        {
          "output_type": "stream",
          "text": [
            "1481\n",
            "1861\n",
            "2181\n",
            "969\n",
            "3378\n",
            "3374\n"
          ],
          "name": "stdout"
        }
      ]
    },
    {
      "cell_type": "markdown",
      "metadata": {
        "id": "MaNExL7fdUT7",
        "colab_type": "text"
      },
      "source": [
        "##Feature Columns (Embeddings)\n",
        "\n",
        "Feature Column is a powerful tensorFlow method to map the dataframe columns with the features in the tranining model. Besides, input columns we have are heterogeneous (text, categories, numbers), with embeddings we can create a layer to represent there columns in a much lower dimension space. "
      ]
    },
    {
      "cell_type": "code",
      "metadata": {
        "id": "slQA7pkUyPlk",
        "colab_type": "code",
        "colab": {}
      },
      "source": [
        "#Title\n",
        "#embedded_title_column = hub.text_embedding_column(key=\"original_title\",\n",
        "#                                                  module_spec = \"https://tfhub.dev/google/random-nnlm-en-dim50/1\")\n",
        "\n",
        "#userId\n",
        "user_id_column = feature_column.categorical_column_with_hash_bucket(key = \"userId\",\n",
        "                                                                        hash_bucket_size = len(userslist)+1)\n",
        "embedded_user_column = feature_column.embedding_column(categorical_column= user_id_column,\n",
        "                                                             dimension = 10)\n",
        "\n",
        "#movie_id\n",
        "movie_id_column = feature_column.categorical_column_with_hash_bucket(key = \"movieId\",\n",
        "                                                                        hash_bucket_size = len(movieslist)+1)\n",
        "embedded_content_column = feature_column.embedding_column(categorical_column= movie_id_column,\n",
        "                                                             dimension = 10)\n",
        "\n",
        "#movie_id_column = feature_column.categorical_column_with_vocabulary_list(key = \"movieId\",\n",
        "#                                                                        vocabulary_list = movieslist,\n",
        "#                                                                         num_oov_buckets = 1)\n",
        "#embedded_movie_column = feature_column.embedding_column(categorical_column= movie_id_column,\n",
        "#                                                            dimension = 8)\n",
        "#Director\n",
        "director_column = feature_column.categorical_column_with_hash_bucket(key = \"director_name\",\n",
        "                                                                        hash_bucket_size = len(directors_list)+1)\n",
        "embedded_director_column = feature_column.embedding_column(categorical_column= director_column,\n",
        "                                                              dimension = 8)\n",
        "#Actor_1\n",
        "actor_1_column = feature_column.categorical_column_with_hash_bucket(key = \"actor_1_name\",\n",
        "                                                                        hash_bucket_size = len(actor_1_list)+1)\n",
        "embedded_actor_1_column = feature_column.embedding_column(categorical_column= actor_1_column,\n",
        "                                                              dimension = 8)\n",
        "#Actor_2\n",
        "actor_2_column = feature_column.categorical_column_with_hash_bucket(key = \"actor_2_name\",\n",
        "                                                                        hash_bucket_size = len(actor_2_list)+1)\n",
        "embedded_actor_2_column = feature_column.embedding_column(categorical_column= actor_2_column,\n",
        "                                                              dimension = 8)\n",
        "#Genres\n",
        "#genre_column_categorical = feature_column.categorical_column_with_vocabulary_list(key = \"genres\",\n",
        "#                                                                                     vocabulary_list = genre_combi_list,\n",
        "#                                                                                     num_oov_buckets = 1)\n",
        "#genre_column = feature_column.embedding_column(categorical_column= genre_column_categorical, \n",
        "#                                                  dimension = 8)\n",
        "#Duration, bucketized\n",
        "duration_column = feature_column.numeric_column(key = \"duration\")\n",
        "duration_bucketized = feature_column.bucketized_column(source_column= duration_column,\n",
        "                                                          boundaries = [80, 100, 130, 145, 170])\n",
        "#Vote average bucketized\n",
        "vote_column = feature_column.numeric_column(key = \"vote_average\")\n",
        "vote_bucketized = feature_column.bucketized_column(source_column= vote_column,\n",
        "                                                      boundaries = [50, 60, 70, 77, 81])\n",
        "#year/niewness \n",
        "year_column = feature_column.numeric_column(key = \"title_year\")\n",
        "year_bucketized = feature_column.bucketized_column(source_column= year_column,\n",
        "                                                      boundaries = [10, 20, 25, 40])\n",
        "                                                  \n",
        "                                               \n",
        "feature_columns = [embedded_user_column,\n",
        "                   embedded_content_column,\n",
        "                   #genre_column,\n",
        "                   #embedded_title_column,\n",
        "                   duration_bucketized,\n",
        "                   vote_bucketized,\n",
        "                   year_bucketized,\n",
        "                   embedded_director_column,\n",
        "                   embedded_actor_1_column,\n",
        "                   embedded_actor_2_column]\n",
        " "
      ],
      "execution_count": 0,
      "outputs": []
    },
    {
      "cell_type": "markdown",
      "metadata": {
        "id": "_WOTdBCudbI9",
        "colab_type": "text"
      },
      "source": [
        "##Layers + Model"
      ]
    },
    {
      "cell_type": "code",
      "metadata": {
        "id": "ZIlK5sN-6NMl",
        "colab_type": "code",
        "colab": {}
      },
      "source": [
        "feature_layer = tf.keras.layers.DenseFeatures(feature_columns)\n",
        "\n"
      ],
      "execution_count": 0,
      "outputs": []
    },
    {
      "cell_type": "code",
      "metadata": {
        "id": "VoZxBoiytrT1",
        "colab_type": "code",
        "colab": {}
      },
      "source": [
        "model = tf.keras.Sequential([\n",
        "  feature_layer,\n",
        "  layers.Dense(200, activation='relu'),\n",
        "  #layers.Dropout(0.2),\n",
        "  layers.Dense(100, activation='relu'),\n",
        "  #layers.Dropout(0.2),\n",
        "  layers.Dense(200, activation='relu'),\n",
        "  layers.Dropout(0.2),\n",
        "  layers.Dense(len(nmovie_ids_list), activation = 'softmax')  #added by me\n",
        "])\n",
        "\n",
        "# logit = tf.layers.dense(net, params['n_classes'], activation = None)\n",
        "\n"
      ],
      "execution_count": 0,
      "outputs": []
    },
    {
      "cell_type": "code",
      "metadata": {
        "id": "Bd2pXGd-uS9X",
        "colab_type": "code",
        "colab": {}
      },
      "source": [
        "model.compile(optimizer=tf.keras.optimizers.Adam(0.001),\n",
        "              loss='sparse_categorical_crossentropy',\n",
        "              metrics = ['accuracy'])"
      ],
      "execution_count": 0,
      "outputs": []
    },
    {
      "cell_type": "code",
      "metadata": {
        "id": "t3xUDRcgHu3G",
        "colab_type": "code",
        "outputId": "d9c455db-cf2d-4fe6-9cb9-962cb3215687",
        "colab": {
          "base_uri": "https://localhost:8080/",
          "height": 1000
        }
      },
      "source": [
        "hist = model.fit(train_ds, validation_data = test_ds, epochs = 70)\n",
        "\n",
        "#  "
      ],
      "execution_count": 0,
      "outputs": [
        {
          "output_type": "stream",
          "text": [
            "WARNING:tensorflow:Expected a shuffled dataset but input dataset `x` is not shuffled. Please invoke `shuffle()` on input dataset.\n",
            "Train on 413 steps, validate on 104 steps\n",
            "Epoch 1/70\n",
            "413/413 [==============================] - 9s 23ms/step - loss: 3.9419 - acc: 0.2498 - val_loss: 3.8679 - val_acc: 0.2673\n",
            "Epoch 2/70\n",
            "413/413 [==============================] - 8s 19ms/step - loss: 3.2056 - acc: 0.2984 - val_loss: 3.5972 - val_acc: 0.2856\n",
            "Epoch 3/70\n",
            "413/413 [==============================] - 9s 21ms/step - loss: 2.8443 - acc: 0.3247 - val_loss: 3.4994 - val_acc: 0.2926\n",
            "Epoch 4/70\n",
            "413/413 [==============================] - 8s 20ms/step - loss: 2.6025 - acc: 0.3438 - val_loss: 3.5015 - val_acc: 0.2968\n",
            "Epoch 5/70\n",
            "413/413 [==============================] - 8s 19ms/step - loss: 2.4332 - acc: 0.3617 - val_loss: 3.5537 - val_acc: 0.2943\n",
            "Epoch 6/70\n",
            "413/413 [==============================] - 8s 19ms/step - loss: 2.2910 - acc: 0.3762 - val_loss: 3.6783 - val_acc: 0.2927\n",
            "Epoch 7/70\n",
            "413/413 [==============================] - 8s 20ms/step - loss: 2.1815 - acc: 0.3942 - val_loss: 3.8189 - val_acc: 0.2904\n",
            "Epoch 8/70\n",
            "413/413 [==============================] - 8s 20ms/step - loss: 2.0897 - acc: 0.4070 - val_loss: 3.9630 - val_acc: 0.2928\n",
            "Epoch 9/70\n",
            "413/413 [==============================] - 8s 20ms/step - loss: 2.0051 - acc: 0.4225 - val_loss: 4.1042 - val_acc: 0.2861\n",
            "Epoch 10/70\n",
            "413/413 [==============================] - 8s 20ms/step - loss: 1.9398 - acc: 0.4353 - val_loss: 4.2500 - val_acc: 0.2830\n",
            "Epoch 11/70\n",
            "413/413 [==============================] - 8s 20ms/step - loss: 1.8712 - acc: 0.4494 - val_loss: 4.4018 - val_acc: 0.2821\n",
            "Epoch 12/70\n",
            "413/413 [==============================] - 8s 20ms/step - loss: 1.8176 - acc: 0.4603 - val_loss: 4.5224 - val_acc: 0.2846\n",
            "Epoch 13/70\n",
            "413/413 [==============================] - 8s 19ms/step - loss: 1.7545 - acc: 0.4754 - val_loss: 4.6163 - val_acc: 0.2831\n",
            "Epoch 14/70\n",
            "413/413 [==============================] - 8s 20ms/step - loss: 1.7009 - acc: 0.4859 - val_loss: 4.7311 - val_acc: 0.2827\n",
            "Epoch 15/70\n",
            "413/413 [==============================] - 8s 20ms/step - loss: 1.6540 - acc: 0.4989 - val_loss: 4.8357 - val_acc: 0.2832\n",
            "Epoch 16/70\n",
            "413/413 [==============================] - 8s 20ms/step - loss: 1.6024 - acc: 0.5110 - val_loss: 4.9844 - val_acc: 0.2808\n",
            "Epoch 17/70\n",
            "413/413 [==============================] - 8s 19ms/step - loss: 1.5615 - acc: 0.5187 - val_loss: 5.0813 - val_acc: 0.2787\n",
            "Epoch 18/70\n",
            "413/413 [==============================] - 8s 19ms/step - loss: 1.5128 - acc: 0.5316 - val_loss: 5.2209 - val_acc: 0.2752\n",
            "Epoch 19/70\n",
            "413/413 [==============================] - 8s 20ms/step - loss: 1.4787 - acc: 0.5384 - val_loss: 5.3814 - val_acc: 0.2713\n",
            "Epoch 20/70\n",
            "413/413 [==============================] - 8s 19ms/step - loss: 1.4376 - acc: 0.5510 - val_loss: 5.5190 - val_acc: 0.2716\n",
            "Epoch 21/70\n",
            "413/413 [==============================] - 8s 19ms/step - loss: 1.4024 - acc: 0.5587 - val_loss: 5.6042 - val_acc: 0.2730\n",
            "Epoch 22/70\n",
            "413/413 [==============================] - 8s 19ms/step - loss: 1.3691 - acc: 0.5677 - val_loss: 5.8091 - val_acc: 0.2646\n",
            "Epoch 23/70\n",
            "413/413 [==============================] - 8s 19ms/step - loss: 1.3368 - acc: 0.5748 - val_loss: 5.8730 - val_acc: 0.2684\n",
            "Epoch 24/70\n",
            "413/413 [==============================] - 8s 20ms/step - loss: 1.3083 - acc: 0.5806 - val_loss: 6.0026 - val_acc: 0.2683\n",
            "Epoch 25/70\n",
            "413/413 [==============================] - 8s 19ms/step - loss: 1.2778 - acc: 0.5905 - val_loss: 6.0680 - val_acc: 0.2700\n",
            "Epoch 26/70\n",
            "413/413 [==============================] - 8s 19ms/step - loss: 1.2479 - acc: 0.6000 - val_loss: 6.2229 - val_acc: 0.2677\n",
            "Epoch 27/70\n",
            "413/413 [==============================] - 8s 19ms/step - loss: 1.2301 - acc: 0.6030 - val_loss: 6.3145 - val_acc: 0.2707\n",
            "Epoch 28/70\n",
            "413/413 [==============================] - 8s 19ms/step - loss: 1.2024 - acc: 0.6113 - val_loss: 6.3999 - val_acc: 0.2678\n",
            "Epoch 29/70\n",
            "413/413 [==============================] - 8s 19ms/step - loss: 1.1842 - acc: 0.6132 - val_loss: 6.5225 - val_acc: 0.2671\n",
            "Epoch 30/70\n",
            "413/413 [==============================] - 8s 19ms/step - loss: 1.1643 - acc: 0.6216 - val_loss: 6.6879 - val_acc: 0.2685\n",
            "Epoch 31/70\n",
            "413/413 [==============================] - 8s 19ms/step - loss: 1.1439 - acc: 0.6275 - val_loss: 6.7422 - val_acc: 0.2672\n",
            "Epoch 32/70\n",
            "413/413 [==============================] - 8s 19ms/step - loss: 1.1192 - acc: 0.6337 - val_loss: 6.9371 - val_acc: 0.2685\n",
            "Epoch 33/70\n",
            "413/413 [==============================] - 8s 19ms/step - loss: 1.1080 - acc: 0.6374 - val_loss: 7.0385 - val_acc: 0.2679\n",
            "Epoch 34/70\n",
            "413/413 [==============================] - 8s 19ms/step - loss: 1.0899 - acc: 0.6440 - val_loss: 7.1376 - val_acc: 0.2663\n",
            "Epoch 35/70\n",
            "413/413 [==============================] - 8s 19ms/step - loss: 1.0725 - acc: 0.6468 - val_loss: 7.2230 - val_acc: 0.2681\n",
            "Epoch 36/70\n",
            "413/413 [==============================] - 8s 19ms/step - loss: 1.0532 - acc: 0.6539 - val_loss: 7.4102 - val_acc: 0.2675\n",
            "Epoch 37/70\n",
            "413/413 [==============================] - 8s 20ms/step - loss: 1.0283 - acc: 0.6581 - val_loss: 7.4381 - val_acc: 0.2685\n",
            "Epoch 38/70\n",
            "413/413 [==============================] - 8s 20ms/step - loss: 1.0202 - acc: 0.6610 - val_loss: 7.5835 - val_acc: 0.2638\n",
            "Epoch 39/70\n",
            "413/413 [==============================] - 8s 20ms/step - loss: 0.9996 - acc: 0.6695 - val_loss: 7.6434 - val_acc: 0.2659\n",
            "Epoch 40/70\n",
            "413/413 [==============================] - 8s 20ms/step - loss: 0.9959 - acc: 0.6694 - val_loss: 7.8852 - val_acc: 0.2654\n",
            "Epoch 41/70\n",
            "413/413 [==============================] - 8s 20ms/step - loss: 0.9832 - acc: 0.6726 - val_loss: 7.9332 - val_acc: 0.2641\n",
            "Epoch 42/70\n",
            "413/413 [==============================] - 8s 20ms/step - loss: 0.9683 - acc: 0.6786 - val_loss: 8.0423 - val_acc: 0.2641\n",
            "Epoch 43/70\n",
            "413/413 [==============================] - 8s 20ms/step - loss: 0.9570 - acc: 0.6802 - val_loss: 8.0881 - val_acc: 0.2623\n",
            "Epoch 44/70\n",
            "413/413 [==============================] - 8s 19ms/step - loss: 0.9423 - acc: 0.6832 - val_loss: 8.1819 - val_acc: 0.2646\n",
            "Epoch 45/70\n",
            "413/413 [==============================] - 8s 19ms/step - loss: 0.9339 - acc: 0.6865 - val_loss: 8.2546 - val_acc: 0.2648\n",
            "Epoch 46/70\n",
            "413/413 [==============================] - 8s 20ms/step - loss: 0.9178 - acc: 0.6917 - val_loss: 8.4073 - val_acc: 0.2612\n",
            "Epoch 47/70\n",
            "413/413 [==============================] - 8s 20ms/step - loss: 0.9033 - acc: 0.6949 - val_loss: 8.5217 - val_acc: 0.2633\n",
            "Epoch 48/70\n",
            "413/413 [==============================] - 8s 20ms/step - loss: 0.8975 - acc: 0.6981 - val_loss: 8.6739 - val_acc: 0.2612\n",
            "Epoch 49/70\n",
            "413/413 [==============================] - 8s 19ms/step - loss: 0.8891 - acc: 0.6986 - val_loss: 8.7348 - val_acc: 0.2598\n",
            "Epoch 50/70\n",
            "413/413 [==============================] - 8s 20ms/step - loss: 0.8811 - acc: 0.7031 - val_loss: 8.7994 - val_acc: 0.2619\n",
            "Epoch 51/70\n",
            "413/413 [==============================] - 8s 20ms/step - loss: 0.8672 - acc: 0.7073 - val_loss: 8.8106 - val_acc: 0.2616\n",
            "Epoch 52/70\n",
            "413/413 [==============================] - 8s 20ms/step - loss: 0.8583 - acc: 0.7100 - val_loss: 8.9045 - val_acc: 0.2630\n",
            "Epoch 53/70\n",
            "413/413 [==============================] - 8s 20ms/step - loss: 0.8467 - acc: 0.7114 - val_loss: 9.0056 - val_acc: 0.2600\n",
            "Epoch 54/70\n",
            "413/413 [==============================] - 8s 20ms/step - loss: 0.8401 - acc: 0.7140 - val_loss: 9.0634 - val_acc: 0.2592\n",
            "Epoch 55/70\n",
            "413/413 [==============================] - 8s 20ms/step - loss: 0.8305 - acc: 0.7167 - val_loss: 9.3306 - val_acc: 0.2595\n",
            "Epoch 56/70\n",
            "413/413 [==============================] - 8s 20ms/step - loss: 0.8267 - acc: 0.7204 - val_loss: 9.1697 - val_acc: 0.2596\n",
            "Epoch 57/70\n",
            "413/413 [==============================] - 8s 20ms/step - loss: 0.8164 - acc: 0.7229 - val_loss: 9.3609 - val_acc: 0.2626\n",
            "Epoch 58/70\n",
            "413/413 [==============================] - 8s 20ms/step - loss: 0.8084 - acc: 0.7226 - val_loss: 9.4659 - val_acc: 0.2601\n",
            "Epoch 59/70\n",
            "413/413 [==============================] - 8s 20ms/step - loss: 0.8024 - acc: 0.7282 - val_loss: 9.4925 - val_acc: 0.2600\n",
            "Epoch 60/70\n",
            "413/413 [==============================] - 8s 20ms/step - loss: 0.7866 - acc: 0.7310 - val_loss: 9.6081 - val_acc: 0.2615\n",
            "Epoch 61/70\n",
            "413/413 [==============================] - 8s 20ms/step - loss: 0.7886 - acc: 0.7329 - val_loss: 9.7005 - val_acc: 0.2567\n",
            "Epoch 62/70\n",
            "413/413 [==============================] - 8s 20ms/step - loss: 0.7829 - acc: 0.7321 - val_loss: 9.7592 - val_acc: 0.2596\n",
            "Epoch 63/70\n",
            "413/413 [==============================] - 8s 20ms/step - loss: 0.7762 - acc: 0.7334 - val_loss: 9.7297 - val_acc: 0.2587\n",
            "Epoch 64/70\n",
            "413/413 [==============================] - 8s 20ms/step - loss: 0.7649 - acc: 0.7409 - val_loss: 9.8517 - val_acc: 0.2570\n",
            "Epoch 65/70\n",
            "413/413 [==============================] - 8s 20ms/step - loss: 0.7598 - acc: 0.7403 - val_loss: 9.8734 - val_acc: 0.2618\n",
            "Epoch 66/70\n",
            "413/413 [==============================] - 8s 20ms/step - loss: 0.7548 - acc: 0.7425 - val_loss: 10.0493 - val_acc: 0.2552\n",
            "Epoch 67/70\n",
            "413/413 [==============================] - 8s 20ms/step - loss: 0.7462 - acc: 0.7454 - val_loss: 10.0843 - val_acc: 0.2538\n",
            "Epoch 68/70\n",
            "413/413 [==============================] - 8s 20ms/step - loss: 0.7490 - acc: 0.7414 - val_loss: 10.0490 - val_acc: 0.2590\n",
            "Epoch 69/70\n",
            "413/413 [==============================] - 8s 20ms/step - loss: 0.7299 - acc: 0.7488 - val_loss: 10.1691 - val_acc: 0.2581\n",
            "Epoch 70/70\n",
            "413/413 [==============================] - 8s 20ms/step - loss: 0.7184 - acc: 0.7522 - val_loss: 10.2732 - val_acc: 0.2566\n"
          ],
          "name": "stdout"
        }
      ]
    },
    {
      "cell_type": "code",
      "metadata": {
        "id": "2KDAZtsooZAX",
        "colab_type": "code",
        "outputId": "abe19829-bf8d-4266-b5bf-89c1e08b5429",
        "colab": {
          "base_uri": "https://localhost:8080/",
          "height": 294
        }
      },
      "source": [
        "#viz\n",
        "# Plot training & validation accuracy values\n",
        "from google.colab import files\n",
        "import matplotlib.pyplot as plt\n",
        "plt.plot(hist.history['acc'])\n",
        "plt.plot(hist.history['val_acc'])\n",
        "plt.title('Model accuracy')\n",
        "plt.ylabel('Accuracy')\n",
        "plt.xlabel('Epoch')\n",
        "plt.legend(['Train', 'Test'], loc='upper left')\n",
        "#plt.show()\n",
        "plt.savefig(\"acc.png\") #, bbox_inches = \"tight\")\n",
        "files.download(\"acc.png\")"
      ],
      "execution_count": 0,
      "outputs": [
        {
          "output_type": "display_data",
          "data": {
            "image/png": "[encoded data removed]",
            "text/plain": [
              "<Figure size 432x288 with 1 Axes>"
            ]
          },
          "metadata": {
            "tags": []
          }
        }
      ]
    },
    {
      "cell_type": "code",
      "metadata": {
        "id": "4-Wq8n6Hs8uB",
        "colab_type": "code",
        "outputId": "0e9973bc-f95e-4be2-92bc-2a34e22f627a",
        "colab": {
          "base_uri": "https://localhost:8080/",
          "height": 294
        }
      },
      "source": [
        "#plotting loss\n",
        "\n",
        "plt.plot(hist.history['loss'])\n",
        "plt.plot(hist.history['val_loss'])\n",
        "plt.title('Model loss')\n",
        "plt.ylabel('Loss')\n",
        "plt.xlabel('Epoch')\n",
        "plt.legend(['Train', 'Test'], loc='upper left')\n",
        "#plt.show()\n",
        "plt.savefig(\"loss.png\") #, bbox_inches = \"tight\")\n",
        "files.download(\"loss.png\")"
      ],
      "execution_count": 0,
      "outputs": [
        {
          "output_type": "display_data",
          "data": {
            "image/png": "[encoded data removed]",
            "text/plain": [
              "<Figure size 432x288 with 1 Axes>"
            ]
          },
          "metadata": {
            "tags": []
          }
        }
      ]
    },
    {
      "cell_type": "code",
      "metadata": {
        "id": "RmwSAiNuIIML",
        "colab_type": "code",
        "colab": {}
      },
      "source": [
        "#For later\n",
        "from IntegratedGradients import *"
      ],
      "execution_count": 0,
      "outputs": []
    },
    {
      "cell_type": "markdown",
      "metadata": {
        "id": "mx0q3tY_6ZvQ",
        "colab_type": "text"
      },
      "source": [
        "The desired process was to be able to use Integrated Gradients on this neural network to try to get some explanations for a given prediction. Unfortunately I couldn't find an implementation that takes into account the heteregeneity of inputs. The next part is another attempt to use IG with a network with homogeneous inputs (numeric)."
      ]
    },
    {
      "cell_type": "markdown",
      "metadata": {
        "id": "8Cpt1s8cQWvE",
        "colab_type": "text"
      },
      "source": [
        "#**Part II**"
      ]
    },
    {
      "cell_type": "markdown",
      "metadata": {
        "id": "5pmWaJbtA-Jl",
        "colab_type": "text"
      },
      "source": [
        "Another experiment with Numerical features\n",
        "\n",
        "removing all string variables (cast, title) "
      ]
    },
    {
      "cell_type": "markdown",
      "metadata": {
        "id": "ZdrOLUEYBH1q",
        "colab_type": "text"
      },
      "source": [
        "**transforming the 'genres' feature to dummies** "
      ]
    },
    {
      "cell_type": "code",
      "metadata": {
        "id": "HvOg5ez3BGep",
        "colab_type": "code",
        "colab": {}
      },
      "source": [
        "df_2 = pd.read_csv('data.csv', index_col= 0)\n",
        "df_2.next_id = df_2.next_id.astype('category').cat.codes.values"
      ],
      "execution_count": 0,
      "outputs": []
    },
    {
      "cell_type": "code",
      "metadata": {
        "id": "P00z52enBZks",
        "colab_type": "code",
        "colab": {}
      },
      "source": [
        "d = {1: 'yes', 0: 'no'}\n",
        "df_2 = df_2.join(df_2.pop('genres').str.get_dummies(' ').applymap(d.get))\n",
        "#df_2.head()"
      ],
      "execution_count": 0,
      "outputs": []
    },
    {
      "cell_type": "code",
      "metadata": {
        "id": "FTLQnxovBmAb",
        "colab_type": "code",
        "outputId": "98a60df4-2c72-41cc-bff0-46a3cf117745",
        "colab": {
          "base_uri": "https://localhost:8080/",
          "height": 267
        }
      },
      "source": [
        "df_2.head()"
      ],
      "execution_count": 0,
      "outputs": [
        {
          "output_type": "execute_result",
          "data": {
            "text/html": [
              "<div>\n",
              "<style scoped>\n",
              "    .dataframe tbody tr th:only-of-type {\n",
              "        vertical-align: middle;\n",
              "    }\n",
              "\n",
              "    .dataframe tbody tr th {\n",
              "        vertical-align: top;\n",
              "    }\n",
              "\n",
              "    .dataframe thead th {\n",
              "        text-align: right;\n",
              "    }\n",
              "</style>\n",
              "<table border=\"1\" class=\"dataframe\">\n",
              "  <thead>\n",
              "    <tr style=\"text-align: right;\">\n",
              "      <th></th>\n",
              "      <th>userId</th>\n",
              "      <th>movieId</th>\n",
              "      <th>original_title</th>\n",
              "      <th>duration</th>\n",
              "      <th>vote_average</th>\n",
              "      <th>title_year</th>\n",
              "      <th>director_name</th>\n",
              "      <th>actor_1_name</th>\n",
              "      <th>actor_2_name</th>\n",
              "      <th>next_id</th>\n",
              "      <th>Action</th>\n",
              "      <th>Adventure</th>\n",
              "      <th>Animation</th>\n",
              "      <th>Comedy</th>\n",
              "      <th>Crime</th>\n",
              "      <th>Documentary</th>\n",
              "      <th>Drama</th>\n",
              "      <th>Family</th>\n",
              "      <th>Fantasy</th>\n",
              "      <th>Fiction</th>\n",
              "      <th>Foreign</th>\n",
              "      <th>History</th>\n",
              "      <th>Horror</th>\n",
              "      <th>Movie</th>\n",
              "      <th>Music</th>\n",
              "      <th>Mystery</th>\n",
              "      <th>Romance</th>\n",
              "      <th>Science</th>\n",
              "      <th>TV</th>\n",
              "      <th>Thriller</th>\n",
              "      <th>War</th>\n",
              "      <th>Western</th>\n",
              "    </tr>\n",
              "  </thead>\n",
              "  <tbody>\n",
              "    <tr>\n",
              "      <th>1</th>\n",
              "      <td>1</td>\n",
              "      <td>1061</td>\n",
              "      <td>Sleepers</td>\n",
              "      <td>147</td>\n",
              "      <td>73</td>\n",
              "      <td>23</td>\n",
              "      <td>Barry Levinson</td>\n",
              "      <td>Brad Pitt</td>\n",
              "      <td>Kevin Bacon</td>\n",
              "      <td>271</td>\n",
              "      <td>no</td>\n",
              "      <td>no</td>\n",
              "      <td>no</td>\n",
              "      <td>no</td>\n",
              "      <td>yes</td>\n",
              "      <td>no</td>\n",
              "      <td>yes</td>\n",
              "      <td>no</td>\n",
              "      <td>no</td>\n",
              "      <td>no</td>\n",
              "      <td>no</td>\n",
              "      <td>no</td>\n",
              "      <td>no</td>\n",
              "      <td>no</td>\n",
              "      <td>no</td>\n",
              "      <td>no</td>\n",
              "      <td>no</td>\n",
              "      <td>no</td>\n",
              "      <td>no</td>\n",
              "      <td>yes</td>\n",
              "      <td>no</td>\n",
              "      <td>no</td>\n",
              "    </tr>\n",
              "    <tr>\n",
              "      <th>2</th>\n",
              "      <td>1</td>\n",
              "      <td>1129</td>\n",
              "      <td>Escape from New York</td>\n",
              "      <td>99</td>\n",
              "      <td>69</td>\n",
              "      <td>38</td>\n",
              "      <td>John Carpenter</td>\n",
              "      <td>Lee Van Cleef</td>\n",
              "      <td>Ernest Borgnine</td>\n",
              "      <td>312</td>\n",
              "      <td>yes</td>\n",
              "      <td>no</td>\n",
              "      <td>no</td>\n",
              "      <td>no</td>\n",
              "      <td>no</td>\n",
              "      <td>no</td>\n",
              "      <td>no</td>\n",
              "      <td>no</td>\n",
              "      <td>no</td>\n",
              "      <td>yes</td>\n",
              "      <td>no</td>\n",
              "      <td>no</td>\n",
              "      <td>no</td>\n",
              "      <td>no</td>\n",
              "      <td>no</td>\n",
              "      <td>no</td>\n",
              "      <td>no</td>\n",
              "      <td>yes</td>\n",
              "      <td>no</td>\n",
              "      <td>no</td>\n",
              "      <td>no</td>\n",
              "      <td>no</td>\n",
              "    </tr>\n",
              "    <tr>\n",
              "      <th>3</th>\n",
              "      <td>1</td>\n",
              "      <td>1263</td>\n",
              "      <td>The Deer Hunter</td>\n",
              "      <td>183</td>\n",
              "      <td>78</td>\n",
              "      <td>41</td>\n",
              "      <td>Michael Cimino</td>\n",
              "      <td>John Cazale</td>\n",
              "      <td>John Savage</td>\n",
              "      <td>324</td>\n",
              "      <td>no</td>\n",
              "      <td>no</td>\n",
              "      <td>no</td>\n",
              "      <td>no</td>\n",
              "      <td>no</td>\n",
              "      <td>no</td>\n",
              "      <td>yes</td>\n",
              "      <td>no</td>\n",
              "      <td>no</td>\n",
              "      <td>no</td>\n",
              "      <td>no</td>\n",
              "      <td>no</td>\n",
              "      <td>no</td>\n",
              "      <td>no</td>\n",
              "      <td>no</td>\n",
              "      <td>no</td>\n",
              "      <td>no</td>\n",
              "      <td>no</td>\n",
              "      <td>no</td>\n",
              "      <td>no</td>\n",
              "      <td>yes</td>\n",
              "      <td>no</td>\n",
              "    </tr>\n",
              "    <tr>\n",
              "      <th>4</th>\n",
              "      <td>1</td>\n",
              "      <td>1293</td>\n",
              "      <td>Gandhi</td>\n",
              "      <td>191</td>\n",
              "      <td>74</td>\n",
              "      <td>37</td>\n",
              "      <td>Richard Attenborough</td>\n",
              "      <td>Candice Bergen</td>\n",
              "      <td>Edward Fox</td>\n",
              "      <td>330</td>\n",
              "      <td>no</td>\n",
              "      <td>no</td>\n",
              "      <td>no</td>\n",
              "      <td>no</td>\n",
              "      <td>no</td>\n",
              "      <td>no</td>\n",
              "      <td>yes</td>\n",
              "      <td>no</td>\n",
              "      <td>no</td>\n",
              "      <td>no</td>\n",
              "      <td>no</td>\n",
              "      <td>yes</td>\n",
              "      <td>no</td>\n",
              "      <td>no</td>\n",
              "      <td>no</td>\n",
              "      <td>no</td>\n",
              "      <td>no</td>\n",
              "      <td>no</td>\n",
              "      <td>no</td>\n",
              "      <td>no</td>\n",
              "      <td>no</td>\n",
              "      <td>no</td>\n",
              "    </tr>\n",
              "    <tr>\n",
              "      <th>5</th>\n",
              "      <td>1</td>\n",
              "      <td>1339</td>\n",
              "      <td>Dracula</td>\n",
              "      <td>128</td>\n",
              "      <td>71</td>\n",
              "      <td>27</td>\n",
              "      <td>Francis Ford Coppola</td>\n",
              "      <td>Winona Ryder</td>\n",
              "      <td>Anthony Hopkins</td>\n",
              "      <td>331</td>\n",
              "      <td>no</td>\n",
              "      <td>no</td>\n",
              "      <td>no</td>\n",
              "      <td>no</td>\n",
              "      <td>no</td>\n",
              "      <td>no</td>\n",
              "      <td>no</td>\n",
              "      <td>no</td>\n",
              "      <td>no</td>\n",
              "      <td>no</td>\n",
              "      <td>no</td>\n",
              "      <td>no</td>\n",
              "      <td>yes</td>\n",
              "      <td>no</td>\n",
              "      <td>no</td>\n",
              "      <td>no</td>\n",
              "      <td>yes</td>\n",
              "      <td>no</td>\n",
              "      <td>no</td>\n",
              "      <td>no</td>\n",
              "      <td>no</td>\n",
              "      <td>no</td>\n",
              "    </tr>\n",
              "  </tbody>\n",
              "</table>\n",
              "</div>"
            ],
            "text/plain": [
              "   userId  movieId        original_title  duration  ...  TV  Thriller  War Western\n",
              "1       1     1061              Sleepers       147  ...  no       yes   no      no\n",
              "2       1     1129  Escape from New York        99  ...  no        no   no      no\n",
              "3       1     1263       The Deer Hunter       183  ...  no        no  yes      no\n",
              "4       1     1293                Gandhi       191  ...  no        no   no      no\n",
              "5       1     1339               Dracula       128  ...  no        no   no      no\n",
              "\n",
              "[5 rows x 32 columns]"
            ]
          },
          "metadata": {
            "tags": []
          },
          "execution_count": 6
        }
      ]
    },
    {
      "cell_type": "code",
      "metadata": {
        "id": "Ea8bkrA3DRMu",
        "colab_type": "code",
        "colab": {}
      },
      "source": [
        "df_2 = df_2.drop(['original_title', 'director_name', 'actor_1_name', 'actor_2_name'], axis =1)"
      ],
      "execution_count": 0,
      "outputs": []
    },
    {
      "cell_type": "code",
      "metadata": {
        "id": "vKIS4BHXDZM5",
        "colab_type": "code",
        "outputId": "4e3bc772-263b-41f9-e64e-d606e273fadc",
        "colab": {
          "base_uri": "https://localhost:8080/",
          "height": 105
        }
      },
      "source": [
        "#not necessary, but when I used category_column_with_vocabulary_list('yes', 'no') it didn't work\n",
        "colname = df_2.columns[6:]\n",
        "print(colname)\n",
        "for col in colname:\n",
        "  df_2[col].replace(('yes', 'no'), (1,0), inplace = True)\n",
        "\n"
      ],
      "execution_count": 0,
      "outputs": [
        {
          "output_type": "stream",
          "text": [
            "Index(['Action', 'Adventure', 'Animation', 'Comedy', 'Crime', 'Documentary',\n",
            "       'Drama', 'Family', 'Fantasy', 'Fiction', 'Foreign', 'History', 'Horror',\n",
            "       'Movie', 'Music', 'Mystery', 'Romance', 'Science', 'TV', 'Thriller',\n",
            "       'War', 'Western'],\n",
            "      dtype='object')\n"
          ],
          "name": "stdout"
        }
      ]
    },
    {
      "cell_type": "code",
      "metadata": {
        "id": "tMB3nlhbHcY4",
        "colab_type": "code",
        "outputId": "68e70674-8199-45e3-e5c0-e92627e54225",
        "colab": {
          "base_uri": "https://localhost:8080/",
          "height": 217
        }
      },
      "source": [
        "df_2.head()"
      ],
      "execution_count": 0,
      "outputs": [
        {
          "output_type": "execute_result",
          "data": {
            "text/html": [
              "<div>\n",
              "<style scoped>\n",
              "    .dataframe tbody tr th:only-of-type {\n",
              "        vertical-align: middle;\n",
              "    }\n",
              "\n",
              "    .dataframe tbody tr th {\n",
              "        vertical-align: top;\n",
              "    }\n",
              "\n",
              "    .dataframe thead th {\n",
              "        text-align: right;\n",
              "    }\n",
              "</style>\n",
              "<table border=\"1\" class=\"dataframe\">\n",
              "  <thead>\n",
              "    <tr style=\"text-align: right;\">\n",
              "      <th></th>\n",
              "      <th>userId</th>\n",
              "      <th>movieId</th>\n",
              "      <th>duration</th>\n",
              "      <th>vote_average</th>\n",
              "      <th>title_year</th>\n",
              "      <th>next_id</th>\n",
              "      <th>Action</th>\n",
              "      <th>Adventure</th>\n",
              "      <th>Animation</th>\n",
              "      <th>Comedy</th>\n",
              "      <th>Crime</th>\n",
              "      <th>Documentary</th>\n",
              "      <th>Drama</th>\n",
              "      <th>Family</th>\n",
              "      <th>Fantasy</th>\n",
              "      <th>Fiction</th>\n",
              "      <th>Foreign</th>\n",
              "      <th>History</th>\n",
              "      <th>Horror</th>\n",
              "      <th>Movie</th>\n",
              "      <th>Music</th>\n",
              "      <th>Mystery</th>\n",
              "      <th>Romance</th>\n",
              "      <th>Science</th>\n",
              "      <th>TV</th>\n",
              "      <th>Thriller</th>\n",
              "      <th>War</th>\n",
              "      <th>Western</th>\n",
              "    </tr>\n",
              "  </thead>\n",
              "  <tbody>\n",
              "    <tr>\n",
              "      <th>1</th>\n",
              "      <td>1</td>\n",
              "      <td>1061</td>\n",
              "      <td>147</td>\n",
              "      <td>73</td>\n",
              "      <td>23</td>\n",
              "      <td>1129</td>\n",
              "      <td>0</td>\n",
              "      <td>0</td>\n",
              "      <td>0</td>\n",
              "      <td>0</td>\n",
              "      <td>1</td>\n",
              "      <td>0</td>\n",
              "      <td>1</td>\n",
              "      <td>0</td>\n",
              "      <td>0</td>\n",
              "      <td>0</td>\n",
              "      <td>0</td>\n",
              "      <td>0</td>\n",
              "      <td>0</td>\n",
              "      <td>0</td>\n",
              "      <td>0</td>\n",
              "      <td>0</td>\n",
              "      <td>0</td>\n",
              "      <td>0</td>\n",
              "      <td>0</td>\n",
              "      <td>1</td>\n",
              "      <td>0</td>\n",
              "      <td>0</td>\n",
              "    </tr>\n",
              "    <tr>\n",
              "      <th>2</th>\n",
              "      <td>1</td>\n",
              "      <td>1129</td>\n",
              "      <td>99</td>\n",
              "      <td>69</td>\n",
              "      <td>38</td>\n",
              "      <td>1263</td>\n",
              "      <td>1</td>\n",
              "      <td>0</td>\n",
              "      <td>0</td>\n",
              "      <td>0</td>\n",
              "      <td>0</td>\n",
              "      <td>0</td>\n",
              "      <td>0</td>\n",
              "      <td>0</td>\n",
              "      <td>0</td>\n",
              "      <td>1</td>\n",
              "      <td>0</td>\n",
              "      <td>0</td>\n",
              "      <td>0</td>\n",
              "      <td>0</td>\n",
              "      <td>0</td>\n",
              "      <td>0</td>\n",
              "      <td>0</td>\n",
              "      <td>1</td>\n",
              "      <td>0</td>\n",
              "      <td>0</td>\n",
              "      <td>0</td>\n",
              "      <td>0</td>\n",
              "    </tr>\n",
              "    <tr>\n",
              "      <th>3</th>\n",
              "      <td>1</td>\n",
              "      <td>1263</td>\n",
              "      <td>183</td>\n",
              "      <td>78</td>\n",
              "      <td>41</td>\n",
              "      <td>1293</td>\n",
              "      <td>0</td>\n",
              "      <td>0</td>\n",
              "      <td>0</td>\n",
              "      <td>0</td>\n",
              "      <td>0</td>\n",
              "      <td>0</td>\n",
              "      <td>1</td>\n",
              "      <td>0</td>\n",
              "      <td>0</td>\n",
              "      <td>0</td>\n",
              "      <td>0</td>\n",
              "      <td>0</td>\n",
              "      <td>0</td>\n",
              "      <td>0</td>\n",
              "      <td>0</td>\n",
              "      <td>0</td>\n",
              "      <td>0</td>\n",
              "      <td>0</td>\n",
              "      <td>0</td>\n",
              "      <td>0</td>\n",
              "      <td>1</td>\n",
              "      <td>0</td>\n",
              "    </tr>\n",
              "    <tr>\n",
              "      <th>4</th>\n",
              "      <td>1</td>\n",
              "      <td>1293</td>\n",
              "      <td>191</td>\n",
              "      <td>74</td>\n",
              "      <td>37</td>\n",
              "      <td>1339</td>\n",
              "      <td>0</td>\n",
              "      <td>0</td>\n",
              "      <td>0</td>\n",
              "      <td>0</td>\n",
              "      <td>0</td>\n",
              "      <td>0</td>\n",
              "      <td>1</td>\n",
              "      <td>0</td>\n",
              "      <td>0</td>\n",
              "      <td>0</td>\n",
              "      <td>0</td>\n",
              "      <td>1</td>\n",
              "      <td>0</td>\n",
              "      <td>0</td>\n",
              "      <td>0</td>\n",
              "      <td>0</td>\n",
              "      <td>0</td>\n",
              "      <td>0</td>\n",
              "      <td>0</td>\n",
              "      <td>0</td>\n",
              "      <td>0</td>\n",
              "      <td>0</td>\n",
              "    </tr>\n",
              "    <tr>\n",
              "      <th>5</th>\n",
              "      <td>1</td>\n",
              "      <td>1339</td>\n",
              "      <td>128</td>\n",
              "      <td>71</td>\n",
              "      <td>27</td>\n",
              "      <td>1343</td>\n",
              "      <td>0</td>\n",
              "      <td>0</td>\n",
              "      <td>0</td>\n",
              "      <td>0</td>\n",
              "      <td>0</td>\n",
              "      <td>0</td>\n",
              "      <td>0</td>\n",
              "      <td>0</td>\n",
              "      <td>0</td>\n",
              "      <td>0</td>\n",
              "      <td>0</td>\n",
              "      <td>0</td>\n",
              "      <td>1</td>\n",
              "      <td>0</td>\n",
              "      <td>0</td>\n",
              "      <td>0</td>\n",
              "      <td>1</td>\n",
              "      <td>0</td>\n",
              "      <td>0</td>\n",
              "      <td>0</td>\n",
              "      <td>0</td>\n",
              "      <td>0</td>\n",
              "    </tr>\n",
              "  </tbody>\n",
              "</table>\n",
              "</div>"
            ],
            "text/plain": [
              "   userId  movieId  duration  vote_average  ...  TV  Thriller  War  Western\n",
              "1       1     1061       147            73  ...   0         1    0        0\n",
              "2       1     1129        99            69  ...   0         0    0        0\n",
              "3       1     1263       183            78  ...   0         0    1        0\n",
              "4       1     1293       191            74  ...   0         0    0        0\n",
              "5       1     1339       128            71  ...   0         0    0        0\n",
              "\n",
              "[5 rows x 28 columns]"
            ]
          },
          "metadata": {
            "tags": []
          },
          "execution_count": 141
        }
      ]
    },
    {
      "cell_type": "code",
      "metadata": {
        "id": "afKfxMq7KZzw",
        "colab_type": "code",
        "colab": {}
      },
      "source": [
        "import numpy as np\n",
        "colname = df_2.columns[6:]\n",
        "genre = []\n",
        "for col in colname:\n",
        "  s = df_2[col].sum()\n",
        "  genre.append(s)\n",
        "\n",
        "bar_genre = {'name':colname, 'count':genre}\n",
        "bargenre_df = pd.DataFrame(bar_genre)\n",
        "bargenre_df"
      ],
      "execution_count": 0,
      "outputs": []
    },
    {
      "cell_type": "code",
      "metadata": {
        "id": "5DovppRKmtxI",
        "colab_type": "code",
        "colab": {}
      },
      "source": [
        " \n",
        " import matplotlib.pyplot as plt\n",
        " import seaborn as sns\n",
        " plt.figure(figsize=(10,8))\n",
        " sns.set()\n",
        " ax = sns.barplot(x=\"name\", y=\"count\", data=bargenre_df,\n",
        "                      palette=\"Blues_d\")\n",
        " ax.set_xticklabels(ax.get_xticklabels(), rotation=45, horizontalalignment='right')\n",
        " plt.savefig(\"genres.png\", bbox_inches = \"tight\")\n",
        " files.download(\"genres.png\")"
      ],
      "execution_count": 0,
      "outputs": []
    },
    {
      "cell_type": "markdown",
      "metadata": {
        "id": "W_7Au9RGSgju",
        "colab_type": "text"
      },
      "source": [
        "###Transforming from df to dataset and creating train test"
      ]
    },
    {
      "cell_type": "code",
      "metadata": {
        "id": "bCtJUv5USnjf",
        "colab_type": "code",
        "colab": {}
      },
      "source": [
        "def df_to_dataset(dataframe, shuffle=True, batch_size=128):\n",
        "  dataframe = dataframe.copy()\n",
        "  labels = dataframe.pop('next_id')\n",
        "  ds = tf.data.Dataset.from_tensor_slices((dict(dataframe), labels))\n",
        "  if shuffle:\n",
        "    ds = ds.shuffle(buffer_size=len(dataframe))\n",
        "  ds = ds.batch(batch_size)\n",
        "  return ds"
      ],
      "execution_count": 0,
      "outputs": []
    },
    {
      "cell_type": "code",
      "metadata": {
        "id": "EP6K6jXU3ejq",
        "colab_type": "code",
        "colab": {}
      },
      "source": [
        "df_2.userId = df_2.userId.astype('category').cat.codes.values\n",
        "df_2.movieId = df_2.movieId.astype('category').cat.codes.values"
      ],
      "execution_count": 0,
      "outputs": []
    },
    {
      "cell_type": "code",
      "metadata": {
        "id": "9RkfJFeF4IBo",
        "colab_type": "code",
        "outputId": "fa5e2cf6-2846-4fb0-82c1-b03bc4cb05d8",
        "colab": {
          "base_uri": "https://localhost:8080/",
          "height": 34
        }
      },
      "source": [
        "df_2.shape"
      ],
      "execution_count": 0,
      "outputs": [
        {
          "output_type": "execute_result",
          "data": {
            "text/plain": [
              "(66015, 28)"
            ]
          },
          "metadata": {
            "tags": []
          },
          "execution_count": 12
        }
      ]
    },
    {
      "cell_type": "code",
      "metadata": {
        "id": "oespNb-5V0Ls",
        "colab_type": "code",
        "outputId": "7bd1162a-b004-4d0f-88e1-52368b8778ae",
        "colab": {
          "base_uri": "https://localhost:8080/",
          "height": 532
        }
      },
      "source": [
        "#df_2['movieId'] = df_2['movieId'].astype(str)\n",
        "#df_2['userId'] = df_2['userId'].astype(str)\n",
        "#type(df_1['movieId'])\n",
        "#df_2.dtypes"
      ],
      "execution_count": 0,
      "outputs": [
        {
          "output_type": "execute_result",
          "data": {
            "text/plain": [
              "userId          object\n",
              "movieId         object\n",
              "duration         int64\n",
              "vote_average     int64\n",
              "title_year       int64\n",
              "next_id          int16\n",
              "Action           int64\n",
              "Adventure        int64\n",
              "Animation        int64\n",
              "Comedy           int64\n",
              "Crime            int64\n",
              "Documentary      int64\n",
              "Drama            int64\n",
              "Family           int64\n",
              "Fantasy          int64\n",
              "Fiction          int64\n",
              "Foreign          int64\n",
              "History          int64\n",
              "Horror           int64\n",
              "Movie            int64\n",
              "Music            int64\n",
              "Mystery          int64\n",
              "Romance          int64\n",
              "Science          int64\n",
              "TV               int64\n",
              "Thriller         int64\n",
              "War              int64\n",
              "Western          int64\n",
              "dtype: object"
            ]
          },
          "metadata": {
            "tags": []
          },
          "execution_count": 10
        }
      ]
    },
    {
      "cell_type": "code",
      "metadata": {
        "id": "QOu204gZs2e-",
        "colab_type": "code",
        "outputId": "37e127fc-ae76-4dd9-a636-9ac4bdde1706",
        "colab": {
          "base_uri": "https://localhost:8080/",
          "height": 34
        }
      },
      "source": [
        "#list of 'next_id' movies Ids\n",
        "nmovie_ids_list= df_2.next_id.unique().tolist()\n",
        "len(nmovie_ids_list)\n",
        "\n",
        "#list of movieIds\n",
        "movieslist = df_2.movieId.unique().tolist()\n",
        "#write_list_to_disk(movie_ids_list, \"movieIdslist.txt\")\n",
        "userslist = df_2.userId.unique().tolist()\n",
        "type(movieslist[1])"
      ],
      "execution_count": 0,
      "outputs": [
        {
          "output_type": "execute_result",
          "data": {
            "text/plain": [
              "int"
            ]
          },
          "metadata": {
            "tags": []
          },
          "execution_count": 12
        }
      ]
    },
    {
      "cell_type": "code",
      "metadata": {
        "id": "5mp_9ZD2S5Vb",
        "colab_type": "code",
        "outputId": "212802c7-2a79-41ee-8e8b-8bb34b9896f9",
        "colab": {
          "base_uri": "https://localhost:8080/",
          "height": 157
        }
      },
      "source": [
        "from sklearn.model_selection import train_test_split\n",
        "\n",
        "train, test = train_test_split(df_2, test_size=0.2)\n",
        "test.head(3)"
      ],
      "execution_count": 0,
      "outputs": [
        {
          "output_type": "execute_result",
          "data": {
            "text/html": [
              "<div>\n",
              "<style scoped>\n",
              "    .dataframe tbody tr th:only-of-type {\n",
              "        vertical-align: middle;\n",
              "    }\n",
              "\n",
              "    .dataframe tbody tr th {\n",
              "        vertical-align: top;\n",
              "    }\n",
              "\n",
              "    .dataframe thead th {\n",
              "        text-align: right;\n",
              "    }\n",
              "</style>\n",
              "<table border=\"1\" class=\"dataframe\">\n",
              "  <thead>\n",
              "    <tr style=\"text-align: right;\">\n",
              "      <th></th>\n",
              "      <th>userId</th>\n",
              "      <th>movieId</th>\n",
              "      <th>duration</th>\n",
              "      <th>vote_average</th>\n",
              "      <th>title_year</th>\n",
              "      <th>next_id</th>\n",
              "      <th>Action</th>\n",
              "      <th>Adventure</th>\n",
              "      <th>Animation</th>\n",
              "      <th>Comedy</th>\n",
              "      <th>Crime</th>\n",
              "      <th>Documentary</th>\n",
              "      <th>Drama</th>\n",
              "      <th>Family</th>\n",
              "      <th>Fantasy</th>\n",
              "      <th>Fiction</th>\n",
              "      <th>Foreign</th>\n",
              "      <th>History</th>\n",
              "      <th>Horror</th>\n",
              "      <th>Movie</th>\n",
              "      <th>Music</th>\n",
              "      <th>Mystery</th>\n",
              "      <th>Romance</th>\n",
              "      <th>Science</th>\n",
              "      <th>TV</th>\n",
              "      <th>Thriller</th>\n",
              "      <th>War</th>\n",
              "      <th>Western</th>\n",
              "    </tr>\n",
              "  </thead>\n",
              "  <tbody>\n",
              "    <tr>\n",
              "      <th>14964</th>\n",
              "      <td>151</td>\n",
              "      <td>663</td>\n",
              "      <td>122</td>\n",
              "      <td>68</td>\n",
              "      <td>21</td>\n",
              "      <td>673</td>\n",
              "      <td>0</td>\n",
              "      <td>0</td>\n",
              "      <td>0</td>\n",
              "      <td>0</td>\n",
              "      <td>0</td>\n",
              "      <td>0</td>\n",
              "      <td>0</td>\n",
              "      <td>0</td>\n",
              "      <td>0</td>\n",
              "      <td>0</td>\n",
              "      <td>0</td>\n",
              "      <td>1</td>\n",
              "      <td>0</td>\n",
              "      <td>0</td>\n",
              "      <td>0</td>\n",
              "      <td>0</td>\n",
              "      <td>1</td>\n",
              "      <td>0</td>\n",
              "      <td>0</td>\n",
              "      <td>0</td>\n",
              "      <td>0</td>\n",
              "      <td>0</td>\n",
              "    </tr>\n",
              "    <tr>\n",
              "      <th>29346</th>\n",
              "      <td>308</td>\n",
              "      <td>308</td>\n",
              "      <td>161</td>\n",
              "      <td>77</td>\n",
              "      <td>62</td>\n",
              "      <td>308</td>\n",
              "      <td>0</td>\n",
              "      <td>0</td>\n",
              "      <td>0</td>\n",
              "      <td>0</td>\n",
              "      <td>0</td>\n",
              "      <td>0</td>\n",
              "      <td>1</td>\n",
              "      <td>0</td>\n",
              "      <td>0</td>\n",
              "      <td>0</td>\n",
              "      <td>0</td>\n",
              "      <td>1</td>\n",
              "      <td>0</td>\n",
              "      <td>0</td>\n",
              "      <td>0</td>\n",
              "      <td>0</td>\n",
              "      <td>0</td>\n",
              "      <td>0</td>\n",
              "      <td>0</td>\n",
              "      <td>0</td>\n",
              "      <td>1</td>\n",
              "      <td>0</td>\n",
              "    </tr>\n",
              "    <tr>\n",
              "      <th>24776</th>\n",
              "      <td>261</td>\n",
              "      <td>976</td>\n",
              "      <td>102</td>\n",
              "      <td>73</td>\n",
              "      <td>19</td>\n",
              "      <td>976</td>\n",
              "      <td>0</td>\n",
              "      <td>0</td>\n",
              "      <td>0</td>\n",
              "      <td>0</td>\n",
              "      <td>1</td>\n",
              "      <td>0</td>\n",
              "      <td>1</td>\n",
              "      <td>0</td>\n",
              "      <td>0</td>\n",
              "      <td>0</td>\n",
              "      <td>0</td>\n",
              "      <td>0</td>\n",
              "      <td>0</td>\n",
              "      <td>0</td>\n",
              "      <td>0</td>\n",
              "      <td>0</td>\n",
              "      <td>0</td>\n",
              "      <td>0</td>\n",
              "      <td>0</td>\n",
              "      <td>1</td>\n",
              "      <td>0</td>\n",
              "      <td>0</td>\n",
              "    </tr>\n",
              "  </tbody>\n",
              "</table>\n",
              "</div>"
            ],
            "text/plain": [
              "       userId  movieId  duration  vote_average  ...  TV  Thriller  War  Western\n",
              "14964     151      663       122            68  ...   0         0    0        0\n",
              "29346     308      308       161            77  ...   0         0    1        0\n",
              "24776     261      976       102            73  ...   0         1    0        0\n",
              "\n",
              "[3 rows x 28 columns]"
            ]
          },
          "metadata": {
            "tags": []
          },
          "execution_count": 11
        }
      ]
    },
    {
      "cell_type": "code",
      "metadata": {
        "id": "jaLw176pS__n",
        "colab_type": "code",
        "colab": {}
      },
      "source": [
        "batch_size = 128\n",
        "train_ds = df_to_dataset(train, batch_size=batch_size)\n",
        "#val_ds = df_to_dataset(val, shuffle=False, batch_size=batch_size)\n",
        "test_ds = df_to_dataset(test, shuffle=False, batch_size=batch_size)"
      ],
      "execution_count": 0,
      "outputs": []
    },
    {
      "cell_type": "code",
      "metadata": {
        "id": "s2jWebCt50Mk",
        "colab_type": "code",
        "colab": {}
      },
      "source": [
        "train_ds.shape"
      ],
      "execution_count": 0,
      "outputs": []
    },
    {
      "cell_type": "markdown",
      "metadata": {
        "id": "yPyADMHbPWa7",
        "colab_type": "text"
      },
      "source": [
        "### Preparing features"
      ]
    },
    {
      "cell_type": "code",
      "metadata": {
        "id": "5aPpBUivMW-9",
        "colab_type": "code",
        "colab": {}
      },
      "source": [
        "feature_columns = []\n",
        "\n",
        "colname = df_2.columns[6:]\n",
        "\n",
        "for col in colname:\n",
        "  feature_columns.append(feature_column.numeric_column(col))\n",
        "  #feature_columns.append(feature_column.embedding_column(category_column, dimension = 2))  #this seems useless to embed, but it gives me an error if I don't\n",
        "\n",
        "#UserId\n",
        "user_id_column = feature_column.categorical_column_with_hash_bucket(key = \"userId\",\n",
        "                                                                        hash_bucket_size = len(userslist)+1)\n",
        "feature_columns.append(feature_column.embedding_column(categorical_column= user_id_column,\n",
        "                                                             dimension = 10))\n",
        "\n",
        "#movie_id\n",
        "movie_id_column = feature_column.categorical_column_with_hash_bucket(key = \"movieId\",\n",
        "                                                                        hash_bucket_size = len(movieslist)+1)\n",
        "feature_columns.append(feature_column.embedding_column(categorical_column= movie_id_column,\n",
        "                                                             dimension = 10))\n",
        "\n",
        "#Duration, bucketized\n",
        "duration_column = feature_column.numeric_column(key = \"duration\")\n",
        "feature_columns.append(feature_column.bucketized_column(source_column= duration_column,\n",
        "                                                          boundaries = [80, 100, 130, 145, 170]))\n",
        "#Vote average bucketized\n",
        "vote_column = feature_column.numeric_column(key = \"vote_average\")\n",
        "feature_columns.append(feature_column.bucketized_column(source_column= vote_column,\n",
        "                                                      boundaries = [50, 60, 70, 77, 81]))\n",
        "#year/niewness \n",
        "year_column = feature_column.numeric_column(key = \"title_year\")\n",
        "feature_columns.append(feature_column.bucketized_column(source_column= year_column,\n",
        "                                                      boundaries = [10, 20, 25, 40]))\n",
        "\n"
      ],
      "execution_count": 0,
      "outputs": []
    },
    {
      "cell_type": "code",
      "metadata": {
        "id": "Lk8Gvn6PlWNT",
        "colab_type": "code",
        "outputId": "4da5de80-97da-4703-e796-4c79ff96512a",
        "colab": {
          "base_uri": "https://localhost:8080/",
          "height": 54
        }
      },
      "source": [
        "print(feature_columns)"
      ],
      "execution_count": 0,
      "outputs": [
        {
          "output_type": "stream",
          "text": [
            "[NumericColumn(key='Action', shape=(1,), default_value=None, dtype=tf.float32, normalizer_fn=None), NumericColumn(key='Adventure', shape=(1,), default_value=None, dtype=tf.float32, normalizer_fn=None), NumericColumn(key='Animation', shape=(1,), default_value=None, dtype=tf.float32, normalizer_fn=None), NumericColumn(key='Comedy', shape=(1,), default_value=None, dtype=tf.float32, normalizer_fn=None), NumericColumn(key='Crime', shape=(1,), default_value=None, dtype=tf.float32, normalizer_fn=None), NumericColumn(key='Documentary', shape=(1,), default_value=None, dtype=tf.float32, normalizer_fn=None), NumericColumn(key='Drama', shape=(1,), default_value=None, dtype=tf.float32, normalizer_fn=None), NumericColumn(key='Family', shape=(1,), default_value=None, dtype=tf.float32, normalizer_fn=None), NumericColumn(key='Fantasy', shape=(1,), default_value=None, dtype=tf.float32, normalizer_fn=None), NumericColumn(key='Fiction', shape=(1,), default_value=None, dtype=tf.float32, normalizer_fn=None), NumericColumn(key='Foreign', shape=(1,), default_value=None, dtype=tf.float32, normalizer_fn=None), NumericColumn(key='History', shape=(1,), default_value=None, dtype=tf.float32, normalizer_fn=None), NumericColumn(key='Horror', shape=(1,), default_value=None, dtype=tf.float32, normalizer_fn=None), NumericColumn(key='Movie', shape=(1,), default_value=None, dtype=tf.float32, normalizer_fn=None), NumericColumn(key='Music', shape=(1,), default_value=None, dtype=tf.float32, normalizer_fn=None), NumericColumn(key='Mystery', shape=(1,), default_value=None, dtype=tf.float32, normalizer_fn=None), NumericColumn(key='Romance', shape=(1,), default_value=None, dtype=tf.float32, normalizer_fn=None), NumericColumn(key='Science', shape=(1,), default_value=None, dtype=tf.float32, normalizer_fn=None), NumericColumn(key='TV', shape=(1,), default_value=None, dtype=tf.float32, normalizer_fn=None), NumericColumn(key='Thriller', shape=(1,), default_value=None, dtype=tf.float32, normalizer_fn=None), NumericColumn(key='War', shape=(1,), default_value=None, dtype=tf.float32, normalizer_fn=None), NumericColumn(key='Western', shape=(1,), default_value=None, dtype=tf.float32, normalizer_fn=None), EmbeddingColumn(categorical_column=HashedCategoricalColumn(key='userId', hash_bucket_size=672, dtype=tf.string), dimension=10, combiner='mean', initializer=<tensorflow.python.ops.init_ops.TruncatedNormal object at 0x7feff83e6a58>, ckpt_to_load_from=None, tensor_name_in_ckpt=None, max_norm=None, trainable=True), EmbeddingColumn(categorical_column=HashedCategoricalColumn(key='movieId', hash_bucket_size=3375, dtype=tf.string), dimension=10, combiner='mean', initializer=<tensorflow.python.ops.init_ops.TruncatedNormal object at 0x7feff83e6940>, ckpt_to_load_from=None, tensor_name_in_ckpt=None, max_norm=None, trainable=True), BucketizedColumn(source_column=NumericColumn(key='duration', shape=(1,), default_value=None, dtype=tf.float32, normalizer_fn=None), boundaries=(80, 100, 130, 145, 170)), BucketizedColumn(source_column=NumericColumn(key='vote_average', shape=(1,), default_value=None, dtype=tf.float32, normalizer_fn=None), boundaries=(50, 60, 70, 77, 81)), BucketizedColumn(source_column=NumericColumn(key='title_year', shape=(1,), default_value=None, dtype=tf.float32, normalizer_fn=None), boundaries=(10, 20, 25, 40))]\n"
          ],
          "name": "stdout"
        }
      ]
    },
    {
      "cell_type": "code",
      "metadata": {
        "id": "dJp-w4LDy7MQ",
        "colab_type": "code",
        "outputId": "b24314e4-0821-41d2-d0f2-0a0601b70b3f",
        "colab": {
          "base_uri": "https://localhost:8080/",
          "height": 34
        }
      },
      "source": [
        "#feature_layer = tf.keras.layers.DenseFeatures(feature_columns)\n",
        "type(feature_layer)"
      ],
      "execution_count": 0,
      "outputs": [
        {
          "output_type": "execute_result",
          "data": {
            "text/plain": [
              "tensorflow.python.feature_column.dense_features.DenseFeatures"
            ]
          },
          "metadata": {
            "tags": []
          },
          "execution_count": 48
        }
      ]
    },
    {
      "cell_type": "code",
      "metadata": {
        "id": "rY6dynURUGhY",
        "colab_type": "code",
        "colab": {}
      },
      "source": [
        "feature_layer = tf.keras.layers.DenseFeatures(feature_columns)\n",
        "\n",
        "\n",
        "model = tf.keras.Sequential([\n",
        "#model = Sequential([\n",
        "  feature_layer,\n",
        "  layers.Dense(200, activation='relu'),\n",
        "  layers.Dense(100, activation='relu'),\n",
        "  layers.Dense(50, activation='relu'),\n",
        "  layers.Dense(len(nmovie_ids_list), activation = 'softmax')  #added by me\n",
        "])\n"
      ],
      "execution_count": 0,
      "outputs": []
    },
    {
      "cell_type": "markdown",
      "metadata": {
        "id": "thewKdiUmL-4",
        "colab_type": "text"
      },
      "source": [
        "### The neural network\n"
      ]
    },
    {
      "cell_type": "code",
      "metadata": {
        "id": "g3x33eDv4tnu",
        "colab_type": "code",
        "colab": {}
      },
      "source": [
        "#trying with no embeddings\n",
        "\n",
        "model = Sequential()\n",
        "model.add(Dense(200, activation= 'relu', input_dim = 27))\n",
        "model.add(Dense(100, activation='relu'))\n",
        "model.add(Dense(100, activation='relu'))\n",
        "model.add(Dense(len(nmovie_ids_list), activation = 'softmax'))"
      ],
      "execution_count": 0,
      "outputs": []
    },
    {
      "cell_type": "code",
      "metadata": {
        "id": "zj9HXm3vslkN",
        "colab_type": "code",
        "outputId": "ad0d8b6e-f0b4-4396-dad6-4358bf606e46",
        "colab": {
          "base_uri": "https://localhost:8080/",
          "height": 34
        }
      },
      "source": [
        "isinstance(model, Sequential)\n"
      ],
      "execution_count": 0,
      "outputs": [
        {
          "output_type": "execute_result",
          "data": {
            "text/plain": [
              "True"
            ]
          },
          "metadata": {
            "tags": []
          },
          "execution_count": 14
        }
      ]
    },
    {
      "cell_type": "code",
      "metadata": {
        "id": "9HnW_ccoUUF6",
        "colab_type": "code",
        "outputId": "e9b3610d-e316-4d9d-a09d-25c8d47684a4",
        "colab": {
          "base_uri": "https://localhost:8080/",
          "height": 107
        }
      },
      "source": [
        "model.compile(optimizer='adam',\n",
        "              loss='sparse_categorical_crossentropy',\n",
        "              metrics = ['accuracy'])"
      ],
      "execution_count": 0,
      "outputs": [
        {
          "output_type": "stream",
          "text": [
            "WARNING:tensorflow:From /usr/local/lib/python3.6/dist-packages/keras/optimizers.py:793: The name tf.train.Optimizer is deprecated. Please use tf.compat.v1.train.Optimizer instead.\n",
            "\n",
            "WARNING:tensorflow:From /usr/local/lib/python3.6/dist-packages/keras/backend/tensorflow_backend.py:3622: The name tf.log is deprecated. Please use tf.math.log instead.\n",
            "\n"
          ],
          "name": "stdout"
        }
      ]
    },
    {
      "cell_type": "code",
      "metadata": {
        "id": "SA9J2fLn9uOu",
        "colab_type": "code",
        "colab": {}
      },
      "source": [
        "x_train = df_2.drop(['next_id'], axis=1)\n",
        "y_train = df_2['next_id']"
      ],
      "execution_count": 0,
      "outputs": []
    },
    {
      "cell_type": "code",
      "metadata": {
        "id": "-1D1Btz8Vcrh",
        "colab_type": "code",
        "colab": {}
      },
      "source": [
        "#model.fit(train_ds, validation_data = test_ds, epochs = 10)\n",
        "model.fit(x_train, y_train, epochs = 100, validation_split= 0.2, batch_size= 128)\n",
        "#same accuracy problem, more epochs, better accu"
      ],
      "execution_count": 0,
      "outputs": []
    },
    {
      "cell_type": "markdown",
      "metadata": {
        "id": "HtPQ2yppquY8",
        "colab_type": "text"
      },
      "source": [
        "##**Integrated Gradient**"
      ]
    },
    {
      "cell_type": "code",
      "metadata": {
        "id": "zVJ2B6y6Vhab",
        "colab_type": "code",
        "colab": {}
      },
      "source": [
        "##### from the repo: https://github.com/hiranumn/IntegratedGradients/blob/master/IntegratedGradients.py\n",
        "\n",
        "from __future__ import division, print_function\n",
        "import numpy as np\n",
        "from time import sleep\n",
        "import sys\n",
        "import keras.backend as K\n",
        "\n",
        "from keras.models import Model, Sequential\n",
        "\n",
        "'''\n",
        "Integrated gradients approximates Shapley values by integrating partial\n",
        "gradients with respect to input features from reference input to the\n",
        "actual input. The following class implements the paper \"Axiomatic attribution\n",
        "for deep neuron networks\".\n",
        "'''\n",
        "class integrated_gradients:\n",
        "    # model: Keras model that you wish to explain.\n",
        "    # outchannels: In case the model are multi tasking, you can specify which output you want explain .\n",
        "    def __init__(self, model, outchannels=[], verbose=1):\n",
        "    \n",
        "        #get backend info (either tensorflow or theano)\n",
        "        self.backend = K.backend()\n",
        "        \n",
        "        #load model supports keras.Model and keras.Sequential\n",
        "        if isinstance(model, Sequential):   # I changed it from 'Sequential' to tf.keras.Sequential\n",
        "            self.model = model\n",
        "        elif isinstance(model, Model):\n",
        "            self.model = model\n",
        "        else:\n",
        "            print(\"Invalid input model\")\n",
        "            return -1\n",
        "        \n",
        "        #load input tensors\n",
        "        self.input_tensors = []\n",
        "        for i in self.model.inputs:\n",
        "            self.input_tensors.append(i)\n",
        "        # The learning phase flag is a bool tensor (0 = test, 1 = train)\n",
        "        # to be passed as input to any Keras function that uses \n",
        "        # a different behavior at train time and test time.\n",
        "        self.input_tensors.append(K.learning_phase())\n",
        "        \n",
        "        #If outputchanels are specified, use it.\n",
        "        #Otherwise evalueate all outputs.\n",
        "        self.outchannels = outchannels\n",
        "        if len(self.outchannels) == 0: \n",
        "            if verbose: print(\"Evaluated output channel (0-based index): All\")\n",
        "            if K.backend() == \"tensorflow\":\n",
        "                self.outchannels = range(self.model.output.shape[1]._value)\n",
        "            elif K.backend() == \"theano\":\n",
        "                self.outchannels = range(self.model.output._keras_shape[1])\n",
        "        else:\n",
        "            if verbose: \n",
        "                print(\"Evaluated output channels (0-based index):\")\n",
        "                print(','.join([str(i) for i in self.outchannels]))\n",
        "                \n",
        "        #Build gradient functions for desired output channels.\n",
        "        self.get_gradients = {}\n",
        "        if verbose: print(\"Building gradient functions\")\n",
        "        \n",
        "        # Evaluate over all requested channels.\n",
        "        for c in self.outchannels:\n",
        "            # Get tensor that calculates gradient\n",
        "            if K.backend() == \"tensorflow\":\n",
        "                gradients = self.model.optimizer.get_gradients(self.model.output[:, c], self.model.input)\n",
        "            if K.backend() == \"theano\":\n",
        "                gradients = self.model.optimizer.get_gradients(self.model.output[:, c].sum(), self.model.input)\n",
        "                \n",
        "            # Build computational graph that computes the tensors given inputs\n",
        "            self.get_gradients[c] = K.function(inputs=self.input_tensors, outputs=gradients)\n",
        "            \n",
        "            # This takes a lot of time for a big model with many tasks.\n",
        "            # So lets print the progress.\n",
        "            if verbose:\n",
        "                sys.stdout.write('\\r')\n",
        "                sys.stdout.write(\"Progress: \"+str(int((c+1)*1.0/len(self.outchannels)*1000)*1.0/10)+\"%\")\n",
        "                sys.stdout.flush()\n",
        "        # Done\n",
        "        if verbose: print(\"\\nDone.\")\n",
        "            \n",
        "                \n",
        "    '''\n",
        "    Input: sample to explain, channel to explain\n",
        "    Optional inputs:\n",
        "        - reference: reference values (defaulted to 0s).\n",
        "        - steps: # steps from reference values to the actual sample (defualted to 50).\n",
        "    Output: list of numpy arrays to integrated over.\n",
        "    '''\n",
        "    def explain(self, sample, outc=0, reference=False, num_steps=50, verbose=0):\n",
        "        \n",
        "        # Each element for each input stream.\n",
        "        samples = []\n",
        "        numsteps = []\n",
        "        step_sizes = []\n",
        "        \n",
        "        # If multiple inputs are present, feed them as list of np arrays. \n",
        "        if isinstance(sample, list):\n",
        "            #If reference is present, reference and sample size need to be equal.\n",
        "            if reference != False: \n",
        "                assert len(sample) == len(reference)\n",
        "            for i in range(len(sample)):\n",
        "                if reference == False:\n",
        "                    _output = integrated_gradients.linearly_interpolate(sample[i], False, num_steps)\n",
        "                else:\n",
        "                    _output = integrated_gradients.linearly_interpolate(sample[i], reference[i], num_steps)\n",
        "                samples.append(_output[0])\n",
        "                numsteps.append(_output[1])\n",
        "                step_sizes.append(_output[2])\n",
        "        \n",
        "        # Or you can feed just a single numpy arrray. \n",
        "        elif isinstance(sample, np.ndarray):\n",
        "            _output = integrated_gradients.linearly_interpolate(sample, reference, num_steps)\n",
        "            samples.append(_output[0])\n",
        "            numsteps.append(_output[1])\n",
        "            step_sizes.append(_output[2])\n",
        "            \n",
        "        # Desired channel must be in the list of outputchannels\n",
        "        assert outc in self.outchannels\n",
        "        if verbose: print(\"Explaning the \"+str(self.outchannels[outc])+\"th output.\")\n",
        "            \n",
        "        # For tensorflow backend\n",
        "        _input = []\n",
        "        for s in samples:\n",
        "            _input.append(s)\n",
        "        _input.append(0)\n",
        "        \n",
        "        if K.backend() == \"tensorflow\": \n",
        "            gradients = self.get_gradients[outc](_input)\n",
        "        elif K.backend() == \"theano\":\n",
        "            gradients = self.get_gradients[outc](_input)\n",
        "            if len(self.model.inputs) == 1:\n",
        "                gradients = [gradients]\n",
        "        \n",
        "        explanation = []\n",
        "        for i in range(len(gradients)):\n",
        "            _temp = np.sum(gradients[i], axis=0)\n",
        "            explanation.append(np.multiply(_temp, step_sizes[i]))\n",
        "           \n",
        "        # Format the return values according to the input sample.\n",
        "        if isinstance(sample, list):\n",
        "            return explanation\n",
        "        elif isinstance(sample, np.ndarray):\n",
        "            return explanation[0]\n",
        "        return -1\n",
        "\n",
        "    \n",
        "    '''\n",
        "    Input: numpy array of a sample\n",
        "    Optional inputs:\n",
        "        - reference: reference values (defaulted to 0s).\n",
        "        - steps: # steps from reference values to the actual sample.\n",
        "    Output: list of numpy arrays to integrate over.\n",
        "    '''\n",
        "    @staticmethod\n",
        "    def linearly_interpolate(sample, reference=False, num_steps=50):\n",
        "        # Use default reference values if reference is not specified\n",
        "        if reference is False: reference = np.zeros(sample.shape);\n",
        "\n",
        "        # Reference and sample shape needs to match exactly\n",
        "        assert sample.shape == reference.shape\n",
        "\n",
        "        # Calcuated stepwise difference from reference to the actual sample.\n",
        "        ret = np.zeros(tuple([num_steps] +[i for i in sample.shape]))\n",
        "        for s in range(num_steps):\n",
        "            ret[s] = reference+(sample-reference)*(s*1.0/num_steps)\n",
        "\n",
        "        return ret, num_steps, (sample-reference)*(1.0/num_steps)"
      ],
      "execution_count": 0,
      "outputs": []
    },
    {
      "cell_type": "code",
      "metadata": {
        "id": "mXCBK5ixrSXy",
        "colab_type": "code",
        "outputId": "fce683c5-551f-4a48-e5c8-9df92d3d12b0",
        "colab": {
          "base_uri": "https://localhost:8080/",
          "height": 143
        }
      },
      "source": [
        "ig = integrated_gradients(model)"
      ],
      "execution_count": 0,
      "outputs": [
        {
          "output_type": "stream",
          "text": [
            "WARNING:tensorflow:From /usr/local/lib/python3.6/dist-packages/keras/backend/tensorflow_backend.py:148: The name tf.placeholder_with_default is deprecated. Please use tf.compat.v1.placeholder_with_default instead.\n",
            "\n",
            "Evaluated output channel (0-based index): All\n",
            "Building gradient functions\n",
            "Progress: 100.0%\n",
            "Done.\n"
          ],
          "name": "stdout"
        }
      ]
    },
    {
      "cell_type": "code",
      "metadata": {
        "id": "dkzNAxWf8EHR",
        "colab_type": "code",
        "colab": {}
      },
      "source": [
        "\n"
      ],
      "execution_count": 0,
      "outputs": []
    },
    {
      "cell_type": "code",
      "metadata": {
        "id": "a-89zvvBrfL2",
        "colab_type": "code",
        "colab": {}
      },
      "source": [
        "train = train.to_numpy(dtype=int)\n"
      ],
      "execution_count": 0,
      "outputs": []
    },
    {
      "cell_type": "code",
      "metadata": {
        "id": "b0CmCcOENdc4",
        "colab_type": "code",
        "outputId": "2a4e8621-c0fc-4a1c-8dd4-21a55eb06f27",
        "colab": {
          "base_uri": "https://localhost:8080/",
          "height": 34
        }
      },
      "source": [
        "tst = x_train.to_numpy(dtype=int)\n",
        "type(tst)"
      ],
      "execution_count": 0,
      "outputs": [
        {
          "output_type": "execute_result",
          "data": {
            "text/plain": [
              "numpy.ndarray"
            ]
          },
          "metadata": {
            "tags": []
          },
          "execution_count": 20
        }
      ]
    },
    {
      "cell_type": "code",
      "metadata": {
        "id": "0z3MhQyAwWh_",
        "colab_type": "code",
        "outputId": "43cebc5b-80ca-45de-ace1-34414391771e",
        "colab": {
          "base_uri": "https://localhost:8080/",
          "height": 70
        }
      },
      "source": [
        "tst[5]"
      ],
      "execution_count": 0,
      "outputs": [
        {
          "output_type": "execute_result",
          "data": {
            "text/plain": [
              "array([  0, 332, 128,  70,  28,   0,   0,   0,   0,   1,   0,   0,   0,\n",
              "         0,   0,   0,   0,   0,   0,   0,   0,   0,   0,   0,   1,   0,\n",
              "         0])"
            ]
          },
          "metadata": {
            "tags": []
          },
          "execution_count": 21
        }
      ]
    },
    {
      "cell_type": "code",
      "metadata": {
        "id": "ZDAooupnuTVO",
        "colab_type": "code",
        "outputId": "1b3f01b6-10c4-4f9c-ef67-bf3e1d3e7934",
        "colab": {
          "base_uri": "https://localhost:8080/",
          "height": 141
        }
      },
      "source": [
        "out = ig.explain(tst[5], num_steps=1000)\n",
        "out"
      ],
      "execution_count": 0,
      "outputs": [
        {
          "output_type": "execute_result",
          "data": {
            "text/plain": [
              "array([ 0.00000000e+00, -2.14596835e-10,  3.79793619e-10, -6.60277122e-11,\n",
              "       -1.39650192e-10,  0.00000000e+00,  0.00000000e+00,  0.00000000e+00,\n",
              "       -0.00000000e+00,  4.31736709e-11,  0.00000000e+00, -0.00000000e+00,\n",
              "        0.00000000e+00,  0.00000000e+00,  0.00000000e+00,  0.00000000e+00,\n",
              "       -0.00000000e+00, -0.00000000e+00,  0.00000000e+00,  0.00000000e+00,\n",
              "       -0.00000000e+00, -0.00000000e+00,  0.00000000e+00,  0.00000000e+00,\n",
              "        1.19855885e-11,  0.00000000e+00,  0.00000000e+00])"
            ]
          },
          "metadata": {
            "tags": []
          },
          "execution_count": 22
        }
      ]
    },
    {
      "cell_type": "code",
      "metadata": {
        "id": "NG9P-IEwPs0V",
        "colab_type": "code",
        "outputId": "a8e6e593-d4ae-4199-e888-bc4f79f9ec11",
        "colab": {
          "base_uri": "https://localhost:8080/",
          "height": 123
        }
      },
      "source": [
        "out2 = out*10**9\n",
        "out2"
      ],
      "execution_count": 0,
      "outputs": [
        {
          "output_type": "execute_result",
          "data": {
            "text/plain": [
              "array([ 0.        , -0.21459683,  0.37979362, -0.06602771, -0.13965019,\n",
              "        0.        ,  0.        ,  0.        , -0.        ,  0.04317367,\n",
              "        0.        , -0.        ,  0.        ,  0.        ,  0.        ,\n",
              "        0.        , -0.        , -0.        ,  0.        ,  0.        ,\n",
              "       -0.        , -0.        ,  0.        ,  0.        ,  0.01198559,\n",
              "        0.        ,  0.        ])"
            ]
          },
          "metadata": {
            "tags": []
          },
          "execution_count": 23
        }
      ]
    },
    {
      "cell_type": "code",
      "metadata": {
        "id": "GApiNPATPVSg",
        "colab_type": "code",
        "outputId": "36fcb100-89d7-41b1-ca92-d8660509098d",
        "colab": {
          "base_uri": "https://localhost:8080/",
          "height": 70
        }
      },
      "source": [
        "tst[5]"
      ],
      "execution_count": 0,
      "outputs": [
        {
          "output_type": "execute_result",
          "data": {
            "text/plain": [
              "array([  0, 332, 128,  70,  28,   0,   0,   0,   0,   1,   0,   0,   0,\n",
              "         0,   0,   0,   0,   0,   0,   0,   0,   0,   0,   0,   1,   0,\n",
              "         0])"
            ]
          },
          "metadata": {
            "tags": []
          },
          "execution_count": 39
        }
      ]
    },
    {
      "cell_type": "code",
      "metadata": {
        "id": "vO8287yuw4rA",
        "colab_type": "code",
        "outputId": "1b361938-65ba-4da5-c9ca-ea82504efa3c",
        "colab": {
          "base_uri": "https://localhost:8080/",
          "height": 54
        }
      },
      "source": [
        "features = list(x_train.columns)\n",
        "print(features)"
      ],
      "execution_count": 0,
      "outputs": [
        {
          "output_type": "stream",
          "text": [
            "['userId', 'movieId', 'duration', 'vote_average', 'title_year', 'Action', 'Adventure', 'Animation', 'Comedy', 'Crime', 'Documentary', 'Drama', 'Family', 'Fantasy', 'Fiction', 'Foreign', 'History', 'Horror', 'Movie', 'Music', 'Mystery', 'Romance', 'Science', 'TV', 'Thriller', 'War', 'Western']\n"
          ],
          "name": "stdout"
        }
      ]
    },
    {
      "cell_type": "code",
      "metadata": {
        "id": "3vfd2BMvxrO3",
        "colab_type": "code",
        "outputId": "95146066-6b55-4edd-aa7c-8719fae3ad5e",
        "colab": {
          "base_uri": "https://localhost:8080/",
          "height": 197
        }
      },
      "source": [
        "plotdata['Features'] = features\n",
        "plotdata.head()"
      ],
      "execution_count": 0,
      "outputs": [
        {
          "output_type": "execute_result",
          "data": {
            "text/html": [
              "<div>\n",
              "<style scoped>\n",
              "    .dataframe tbody tr th:only-of-type {\n",
              "        vertical-align: middle;\n",
              "    }\n",
              "\n",
              "    .dataframe tbody tr th {\n",
              "        vertical-align: top;\n",
              "    }\n",
              "\n",
              "    .dataframe thead th {\n",
              "        text-align: right;\n",
              "    }\n",
              "</style>\n",
              "<table border=\"1\" class=\"dataframe\">\n",
              "  <thead>\n",
              "    <tr style=\"text-align: right;\">\n",
              "      <th></th>\n",
              "      <th>values</th>\n",
              "      <th>column</th>\n",
              "      <th>Features</th>\n",
              "    </tr>\n",
              "  </thead>\n",
              "  <tbody>\n",
              "    <tr>\n",
              "      <th>0</th>\n",
              "      <td>0.000000</td>\n",
              "      <td>1</td>\n",
              "      <td>userId</td>\n",
              "    </tr>\n",
              "    <tr>\n",
              "      <th>1</th>\n",
              "      <td>-0.214597</td>\n",
              "      <td>2</td>\n",
              "      <td>movieId</td>\n",
              "    </tr>\n",
              "    <tr>\n",
              "      <th>2</th>\n",
              "      <td>0.379794</td>\n",
              "      <td>3</td>\n",
              "      <td>duration</td>\n",
              "    </tr>\n",
              "    <tr>\n",
              "      <th>3</th>\n",
              "      <td>-0.066028</td>\n",
              "      <td>4</td>\n",
              "      <td>vote_average</td>\n",
              "    </tr>\n",
              "    <tr>\n",
              "      <th>4</th>\n",
              "      <td>-0.139650</td>\n",
              "      <td>5</td>\n",
              "      <td>title_year</td>\n",
              "    </tr>\n",
              "  </tbody>\n",
              "</table>\n",
              "</div>"
            ],
            "text/plain": [
              "     values  column      Features\n",
              "0  0.000000       1        userId\n",
              "1 -0.214597       2       movieId\n",
              "2  0.379794       3      duration\n",
              "3 -0.066028       4  vote_average\n",
              "4 -0.139650       5    title_year"
            ]
          },
          "metadata": {
            "tags": []
          },
          "execution_count": 31
        }
      ]
    },
    {
      "cell_type": "code",
      "metadata": {
        "id": "ScL2rhUyyk6g",
        "colab_type": "code",
        "colab": {}
      },
      "source": [
        "plotdata.to_csv('plotig.csv')"
      ],
      "execution_count": 0,
      "outputs": []
    },
    {
      "cell_type": "code",
      "metadata": {
        "id": "rWZbdfiTScM0",
        "colab_type": "code",
        "outputId": "6fcc3131-3a50-435f-e02c-75c941fa200c",
        "colab": {
          "base_uri": "https://localhost:8080/",
          "height": 368
        }
      },
      "source": [
        "#plotdata\n",
        "import altair as alt\n",
        "\n",
        "alt.Chart(plotdata).mark_bar().encode(\n",
        "    x=\"column:T\",\n",
        "    y=\"values:Q\",\n",
        "    color=alt.condition(\n",
        "        alt.datum.nonfarm_change > 0,\n",
        "        alt.value(\"steelblue\"),  # The positive color\n",
        "        alt.value(\"orange\")  # The negative color\n",
        "    )\n",
        ").properties(width=600)\n"
      ],
      "execution_count": 0,
      "outputs": [
        {
          "output_type": "execute_result",
          "data": {
            "text/plain": [
              "alt.Chart(...)"
            ],
            "text/html": [
              "\n",
              "<div id=\"altair-viz-2\"></div>\n",
              "<script type=\"text/javascript\">\n",
              "  (function(spec, embedOpt){\n",
              "    const outputDiv = document.getElementById(\"altair-viz-2\");\n",
              "    const paths = {\n",
              "      \"vega\": \"https://cdn.jsdelivr.net/npm//vega@5?noext\",\n",
              "      \"vega-lib\": \"https://cdn.jsdelivr.net/npm//vega-lib?noext\",\n",
              "      \"vega-lite\": \"https://cdn.jsdelivr.net/npm//vega-lite@4.0.0?noext\",\n",
              "      \"vega-embed\": \"https://cdn.jsdelivr.net/npm//vega-embed@6?noext\",\n",
              "    };\n",
              "\n",
              "    function loadScript(lib) {\n",
              "      return new Promise(function(resolve, reject) {\n",
              "        var s = document.createElement('script');\n",
              "        s.src = paths[lib];\n",
              "        s.async = true;\n",
              "        s.onload = () => resolve(paths[lib]);\n",
              "        s.onerror = () => reject(`Error loading script: ${paths[lib]}`);\n",
              "        document.getElementsByTagName(\"head\")[0].appendChild(s);\n",
              "      });\n",
              "    }\n",
              "\n",
              "    function showError(err) {\n",
              "      outputDiv.innerHTML = `<div class=\"error\" style=\"color:red;\">${err}</div>`;\n",
              "      throw err;\n",
              "    }\n",
              "\n",
              "    function displayChart(vegaEmbed) {\n",
              "      vegaEmbed(outputDiv, spec, embedOpt)\n",
              "        .catch(err => showError(`Javascript Error: ${err.message}<br>This usually means there's a typo in your chart specification. See the javascript console for the full traceback.`));\n",
              "    }\n",
              "\n",
              "    if(typeof define === \"function\" && define.amd) {\n",
              "      requirejs.config({paths});\n",
              "      require([\"vega-embed\"], displayChart, err => showError(`Error loading script: ${err.message}`));\n",
              "    } else if (typeof vegaEmbed === \"function\") {\n",
              "      displayChart(vegaEmbed);\n",
              "    } else {\n",
              "      loadScript(\"vega\")\n",
              "        .then(() => loadScript(\"vega-lite\"))\n",
              "        .then(() => loadScript(\"vega-embed\"))\n",
              "        .catch(showError)\n",
              "        .then(() => displayChart(vegaEmbed));\n",
              "    }\n",
              "  })({\"config\": {\"view\": {\"continuousWidth\": 400, \"continuousHeight\": 300}}, \"data\": {\"name\": \"data-538f995ff6bf75a629686ae86f711388\"}, \"mark\": \"bar\", \"encoding\": {\"color\": {\"condition\": {\"value\": \"steelblue\", \"test\": \"(datum.nonfarm_change > 0)\"}, \"value\": \"orange\"}, \"x\": {\"type\": \"temporal\", \"field\": \"column\"}, \"y\": {\"type\": \"quantitative\", \"field\": \"values\"}}, \"width\": 600, \"$schema\": \"https://vega.github.io/schema/vega-lite/v4.0.0.json\", \"datasets\": {\"data-538f995ff6bf75a629686ae86f711388\": [{\"values\": 0.0, \"column\": 1, \"Features\": \"userId\"}, {\"values\": -0.21459683474667204, \"column\": 2, \"Features\": \"movieId\"}, {\"values\": 0.3797936187766027, \"column\": 3, \"Features\": \"duration\"}, {\"values\": -0.06602771218666703, \"column\": 4, \"Features\": \"vote_average\"}, {\"values\": -0.139650191854912, \"column\": 5, \"Features\": \"title_year\"}, {\"values\": 0.0, \"column\": 6, \"Features\": \"Action\"}, {\"values\": 0.0, \"column\": 7, \"Features\": \"Adventure\"}, {\"values\": 0.0, \"column\": 8, \"Features\": \"Animation\"}, {\"values\": -0.0, \"column\": 9, \"Features\": \"Comedy\"}, {\"values\": 0.04317367086059676, \"column\": 10, \"Features\": \"Crime\"}, {\"values\": 0.0, \"column\": 11, \"Features\": \"Documentary\"}, {\"values\": -0.0, \"column\": 12, \"Features\": \"Drama\"}, {\"values\": 0.0, \"column\": 13, \"Features\": \"Family\"}, {\"values\": 0.0, \"column\": 14, \"Features\": \"Fantasy\"}, {\"values\": 0.0, \"column\": 15, \"Features\": \"Fiction\"}, {\"values\": 0.0, \"column\": 16, \"Features\": \"Foreign\"}, {\"values\": -0.0, \"column\": 17, \"Features\": \"History\"}, {\"values\": -0.0, \"column\": 18, \"Features\": \"Horror\"}, {\"values\": 0.0, \"column\": 19, \"Features\": \"Movie\"}, {\"values\": 0.0, \"column\": 20, \"Features\": \"Music\"}, {\"values\": -0.0, \"column\": 21, \"Features\": \"Mystery\"}, {\"values\": -0.0, \"column\": 22, \"Features\": \"Romance\"}, {\"values\": 0.0, \"column\": 23, \"Features\": \"Science\"}, {\"values\": 0.0, \"column\": 24, \"Features\": \"TV\"}, {\"values\": 0.011985588521667978, \"column\": 25, \"Features\": \"Thriller\"}, {\"values\": 0.0, \"column\": 26, \"Features\": \"War\"}, {\"values\": 0.0, \"column\": 27, \"Features\": \"Western\"}]}}, {\"mode\": \"vega-lite\"});\n",
              "</script>"
            ]
          },
          "metadata": {
            "tags": []
          },
          "execution_count": 33
        }
      ]
    },
    {
      "cell_type": "code",
      "metadata": {
        "id": "-PuLNUwqTdJu",
        "colab_type": "code",
        "colab": {}
      },
      "source": [
        ""
      ],
      "execution_count": 0,
      "outputs": []
    }
  ]
}